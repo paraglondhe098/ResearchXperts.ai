{
 "cells": [
  {
   "cell_type": "code",
   "execution_count": 29,
   "metadata": {
    "collapsed": true,
    "ExecuteTime": {
     "end_time": "2024-11-12T05:17:16.509400400Z",
     "start_time": "2024-11-12T05:17:16.500989100Z"
    }
   },
   "outputs": [],
   "source": [
    "import streamlit as st\n",
    "from langchain_mistralai import ChatMistralAI\n",
    "from utils.assistants import PaperSearchAssistant, PaperAssistant\n",
    "from utils.core import setup_environment"
   ]
  },
  {
   "cell_type": "code",
   "execution_count": 30,
   "outputs": [
    {
     "name": "stdout",
     "output_type": "stream",
     "text": [
      "Key loading successful.\n",
      "Key loading successful.\n",
      "Key loading successful.\n"
     ]
    }
   ],
   "source": [
    "setup_environment()"
   ],
   "metadata": {
    "collapsed": false,
    "ExecuteTime": {
     "end_time": "2024-11-12T05:17:16.874178900Z",
     "start_time": "2024-11-12T05:17:16.857951700Z"
    }
   }
  },
  {
   "cell_type": "code",
   "execution_count": 31,
   "outputs": [],
   "source": [
    "llm = ChatMistralAI(model = \"mistral-large-2402\")\n",
    "assistant = PaperSearchAssistant(llm = llm)"
   ],
   "metadata": {
    "collapsed": false,
    "ExecuteTime": {
     "end_time": "2024-11-12T05:17:18.002242400Z",
     "start_time": "2024-11-12T05:17:17.405918800Z"
    }
   }
  },
  {
   "cell_type": "code",
   "execution_count": 32,
   "outputs": [],
   "source": [
    "query = \"Meuchanical peokperties of Still\"\n",
    "results = assistant.search_papers(query, max_results=5)"
   ],
   "metadata": {
    "collapsed": false,
    "ExecuteTime": {
     "end_time": "2024-11-12T05:17:21.018996800Z",
     "start_time": "2024-11-12T05:17:18.727949700Z"
    }
   }
  },
  {
   "cell_type": "code",
   "execution_count": 33,
   "outputs": [
    {
     "data": {
      "text/plain": "ResearchPaper(id='1202.4135v1', title='Nanoscale austenite reversion through partitioning, segregation, and\\n  kinetic freezing: Example of a ductile 2 GPa Fe-Cr-C steel', category='cond-mat.mtrl-sci', authors=['L. Yuan', 'D. Ponge', 'J. Wittig', 'P. Choi', 'J. A. Jiménez', 'D. Raabe'], author_comment='in press Acta Materialia 2012', published=datetime.datetime(2012, 2, 19, 8, 17, 50), summary=\"Austenite reversion during tempering of a Fe-13.6Cr-0.44C (wt.%) martensite\\nresults in an ultrahigh strength ferritic stainless steel with excellent\\nductility. The austenite reversion mechanism is coupled to the kinetic freezing\\nof carbon during low-temperature partitioning at the interfaces between\\nmartensite and retained austenite and to carbon segregation at\\nmartensite-martensite grain boundaries. An advantage of austenite reversion is\\nits scalability, i.e., changing tempering time and temperature tailors the\\ndesired strength-ductility profiles (e.g. tempering at 400{\\\\deg}C for 1 min.\\nproduces a 2 GPa ultimate tensile strength (UTS) and 14% elongation while 30\\nmin. at 400{\\\\deg}C results in a UTS of ~ 1.75 GPa with an elongation of 23%).\\nThe austenite reversion process, carbide precipitation, and carbon segregation\\nhave been characterized by XRD, EBSD, TEM, and atom probe tomography (APT) in\\norder to develop the structure-property relationships that control the\\nmaterial's strength and ductility.\", link='http://arxiv.org/abs/1202.4135v1', pdf_url='https://arxiv.org/pdf/1202.4135v1.pdf', journal_ref='Acta Materialia 60 (2012) 2790-2804')"
     },
     "execution_count": 33,
     "metadata": {},
     "output_type": "execute_result"
    }
   ],
   "source": [
    "results[0]"
   ],
   "metadata": {
    "collapsed": false,
    "ExecuteTime": {
     "end_time": "2024-11-12T05:17:22.445429600Z",
     "start_time": "2024-11-12T05:17:22.440654900Z"
    }
   }
  },
  {
   "cell_type": "code",
   "execution_count": 34,
   "outputs": [],
   "source": [
    "reader = PaperAssistant(paper = results[-1],\n",
    "                   llm= llm,k=10\n",
    "                   )"
   ],
   "metadata": {
    "collapsed": false,
    "ExecuteTime": {
     "end_time": "2024-11-12T05:17:31.045751100Z",
     "start_time": "2024-11-12T05:17:23.681961Z"
    }
   }
  },
  {
   "cell_type": "code",
   "execution_count": 35,
   "outputs": [],
   "source": [
    "ans = reader.answer(\"What is the role of carbon partitioning in the tempering process, and how does it affect the microstructure of martensite and austenite during tempering at 400°C?\")"
   ],
   "metadata": {
    "collapsed": false,
    "ExecuteTime": {
     "end_time": "2024-11-12T05:17:41.509316700Z",
     "start_time": "2024-11-12T05:17:31.047752Z"
    }
   }
  },
  {
   "cell_type": "code",
   "execution_count": 36,
   "outputs": [
    {
     "data": {
      "text/plain": "\"During the tempering process, carbon partitioning plays a significant role in the microstructural changes of martensite and austenite. When a steel is quenched, the majority of austenite transforms into martensite, but some austenite remains retained. Due to the low solubility of carbon in martensite, carbon starts to partition and enrich at the martensite-austenite interfaces during and after the transformation. This carbon enrichment can lead to the formation of carbides inside the martensite or austenite reversion, depending on the local chemical potential and diffusion rates.\\n\\nWhen tempered at 400°C, the martensite's carbon content decreases continuously due to carbon partitioning from the supersaturated martensite to the austenite and carbide formation. After 1 minute of tempering, a carbon-enriched austenite layer is observed between two martensite regions. This layer contains, on average, about 6.86 at.% carbon, while the martensite matrix contains only about 0.82 at.% carbon. After 30 minutes of tempering, different carbon-enriched areas appear, corresponding to individual phases. The martensitic region contains areas with very high carbon content, indicating M3C cementite stoichiometry, while the austenitic region has a higher carbon content compared to the martensite.\\n\\nIn summary, during tempering at 400°C, carbon partitioning leads to the redistribution of carbon in the steel. This redistribution affects the microstructure by forming carbides within the martensite and promoting austenite reversion in carbon-enriched areas, ultimately influencing the material's properties.\""
     },
     "execution_count": 36,
     "metadata": {},
     "output_type": "execute_result"
    }
   ],
   "source": [
    "ans[\"answer\"]"
   ],
   "metadata": {
    "collapsed": false,
    "ExecuteTime": {
     "end_time": "2024-11-12T05:17:41.515507400Z",
     "start_time": "2024-11-12T05:17:41.511311600Z"
    }
   }
  },
  {
   "cell_type": "code",
   "execution_count": 18,
   "outputs": [
    {
     "data": {
      "text/plain": "10"
     },
     "execution_count": 18,
     "metadata": {},
     "output_type": "execute_result"
    }
   ],
   "source": [
    "len(ans[\"context\"])"
   ],
   "metadata": {
    "collapsed": false,
    "ExecuteTime": {
     "end_time": "2024-11-12T02:14:36.343234500Z",
     "start_time": "2024-11-12T02:14:36.338978500Z"
    }
   }
  },
  {
   "cell_type": "code",
   "execution_count": 22,
   "outputs": [
    {
     "data": {
      "text/plain": "{'input': 'What is the author name of this paper, and when was it published?',\n 'context': [Document(metadata={'page': 44, 'source': 'https://arxiv.org/pdf/1202.4135v1.pdf'}, page_content='   Figures, page 6 \\n \\n \\n \\n \\n'),\n  Document(metadata={'page': 35, 'source': 'https://arxiv.org/pdf/1202.4135v1.pdf'}, page_content='   Figures, page 5 \\n \\n(d) \\n \\n'),\n  Document(metadata={'page': 42, 'source': 'https://arxiv.org/pdf/1202.4135v1.pdf'}, page_content='   Figures, page 4 \\n \\n'),\n  Document(metadata={'page': 25, 'source': 'https://arxiv.org/pdf/1202.4135v1.pdf'}, page_content='   Figures, page 4 \\n \\n (d) \\n'),\n  Document(metadata={'page': 40, 'source': 'https://arxiv.org/pdf/1202.4135v1.pdf'}, page_content='   Figures, page 2 \\n \\n \\n'),\n  Document(metadata={'page': 36, 'source': 'https://arxiv.org/pdf/1202.4135v1.pdf'}, page_content='   Figures, page 6 \\n  \\n(e) \\n \\n'),\n  Document(metadata={'page': 43, 'source': 'https://arxiv.org/pdf/1202.4135v1.pdf'}, page_content='   Figures, page 5 \\n \\n \\n(b) \\n \\n \\n'),\n  Document(metadata={'page': 37, 'source': 'https://arxiv.org/pdf/1202.4135v1.pdf'}, page_content='   Figures, page 7 \\n \\n(f) \\n \\n'),\n  Document(metadata={'page': 41, 'source': 'https://arxiv.org/pdf/1202.4135v1.pdf'}, page_content='   Figures, page 3 \\n \\n(a) \\n \\n \\n'),\n  Document(metadata={'page': 33, 'source': 'https://arxiv.org/pdf/1202.4135v1.pdf'}, page_content='   Figures, page 3 \\n \\n(b) \\n \\n')],\n 'answer': 'The authors of the research paper are Zhexian Zhang, Daniel Morrall, and Kiyohiro Yabuuchi. The paper was published on October 20, 2023.'}"
     },
     "execution_count": 22,
     "metadata": {},
     "output_type": "execute_result"
    }
   ],
   "source": [
    "reader.answer(\"Who is the author name of this paper, and when was it published?\")"
   ],
   "metadata": {
    "collapsed": false,
    "ExecuteTime": {
     "end_time": "2024-11-12T02:18:43.272444400Z",
     "start_time": "2024-11-12T02:18:41.127773200Z"
    }
   }
  },
  {
   "cell_type": "code",
   "execution_count": 23,
   "outputs": [
    {
     "data": {
      "text/plain": "{'paper_info': {'title': '475°C aging embrittlement of partially recrystallized FeCrAl ODS\\n  ferritic steels after simulated tube process',\n  'authors': ['Zhexian Zhang', 'Daniel Morrall', 'Kiyohiro Yabuuchi'],\n  'category': 'cond-mat.mtrl-sci',\n  'published_date': '2023-10-20',\n  'journal_ref': 'No journal reference'},\n 'content_stats': {'total_pages': 18,\n  'total_words': 8963,\n  'average_words_per_page': 497.94,\n  'average_chunk_size': 3155.0},\n 'processing_info': {'embedding_model': HuggingFaceEmbeddings(client=SentenceTransformer(\n    (0): Transformer({'max_seq_length': 256, 'do_lower_case': False}) with Transformer model: BertModel \n    (1): Pooling({'word_embedding_dimension': 384, 'pooling_mode_cls_token': False, 'pooling_mode_mean_tokens': True, 'pooling_mode_max_tokens': False, 'pooling_mode_mean_sqrt_len_tokens': False, 'pooling_mode_weightedmean_tokens': False, 'pooling_mode_lasttoken': False, 'include_prompt': True})\n    (2): Normalize()\n  ), model_name='sentence-transformers/all-MiniLM-L6-v2', cache_folder=None, model_kwargs={}, encode_kwargs={}, multi_process=False, show_progress=False),\n  'retrieval_chunks': 10,\n  'vectorstore_documents': 18}}"
     },
     "execution_count": 23,
     "metadata": {},
     "output_type": "execute_result"
    }
   ],
   "source": [
    "reader.get_paper_stats()"
   ],
   "metadata": {
    "collapsed": false,
    "ExecuteTime": {
     "end_time": "2024-11-12T02:20:06.526531300Z",
     "start_time": "2024-11-12T02:20:06.492047Z"
    }
   }
  },
  {
   "cell_type": "code",
   "execution_count": null,
   "outputs": [],
   "source": [],
   "metadata": {
    "collapsed": false
   }
  }
 ],
 "metadata": {
  "kernelspec": {
   "display_name": "Python 3",
   "language": "python",
   "name": "python3"
  },
  "language_info": {
   "codemirror_mode": {
    "name": "ipython",
    "version": 2
   },
   "file_extension": ".py",
   "mimetype": "text/x-python",
   "name": "python",
   "nbconvert_exporter": "python",
   "pygments_lexer": "ipython2",
   "version": "2.7.6"
  }
 },
 "nbformat": 4,
 "nbformat_minor": 0
}
