{
 "cells": [
  {
   "cell_type": "code",
   "execution_count": 1,
   "metadata": {
    "collapsed": true,
    "ExecuteTime": {
     "end_time": "2024-11-11T20:38:14.707238600Z",
     "start_time": "2024-11-11T20:38:14.022392400Z"
    }
   },
   "outputs": [],
   "source": [
    "import feedparser, requests\n",
    "import streamlit as st\n",
    "from utils.api_keys import fetch_api_key\n",
    "import os"
   ]
  },
  {
   "cell_type": "code",
   "execution_count": 2,
   "outputs": [
    {
     "name": "stdout",
     "output_type": "stream",
     "text": [
      "Key loading successful.\n",
      "Key loading successful.\n"
     ]
    }
   ],
   "source": [
    "os.environ[\"LANGCHAIN_TRACING_V2\"] = \"true\"\n",
    "os.environ[\"LANGCHAIN_API_KEY\"] = fetch_api_key(\"langsmith\", requires_pass=False)\n",
    "os.environ[\"MISTRAL_API_KEY\"] = fetch_api_key(\"mistral\", requires_pass=False)"
   ],
   "metadata": {
    "collapsed": false,
    "ExecuteTime": {
     "end_time": "2024-11-11T20:38:14.712434300Z",
     "start_time": "2024-11-11T20:38:14.709253Z"
    }
   }
  },
  {
   "cell_type": "code",
   "execution_count": 3,
   "outputs": [],
   "source": [
    "import os\n",
    "from langchain_core.tools import tool"
   ],
   "metadata": {
    "collapsed": false,
    "ExecuteTime": {
     "end_time": "2024-11-11T20:38:16.479671800Z",
     "start_time": "2024-11-11T20:38:15.556365200Z"
    }
   }
  },
  {
   "cell_type": "code",
   "execution_count": 4,
   "outputs": [],
   "source": [
    "class ArXivRetriever:\n",
    "    def __init__(self, api_url=\"http://export.arxiv.org/api/query?\"):\n",
    "        self.api_url = api_url\n",
    "\n",
    "    def fetch_papers(self, topic):\n",
    "        \"\"\"Fetches information about n (param: max_results) relevant research papers on given topic (param: topic) \"\"\"\n",
    "\n",
    "        max_results=5\n",
    "        query_url = f\"{self.api_url}search_query=all:{topic}&max_results={max_results}\"\n",
    "        try:\n",
    "            response = requests.get(query_url)\n",
    "            response.raise_for_status()\n",
    "            feed = feedparser.parse(response.content)\n",
    "\n",
    "            papers = []\n",
    "            for entry in feed.entries:\n",
    "                paper_id = entry.id.split(\"/\")[-1]\n",
    "                pdf_url = f\"https://arxiv.org/pdf/{paper_id}.pdf\"\n",
    "                paper = {\n",
    "                    \"id\": paper_id,\n",
    "                    \"title\": entry.title,\n",
    "                    \"category\": entry.category,\n",
    "                    \"authors\": [author.name for author in entry.authors],\n",
    "                    \"author_comment\": entry.get(\"arxiv_comment\", \"No comments available\"),\n",
    "                    \"published\": entry.published,\n",
    "                    \"summary\": entry.summary,\n",
    "                    \"link\": entry.link,\n",
    "                    \"pdf_url\": pdf_url,\n",
    "                    \"journal_ref\": entry.get(\"arxiv_journal_ref\", \"No journal reference\")\n",
    "                }\n",
    "                papers.append(paper)\n",
    "            return papers\n",
    "        except requests.exceptions.RequestException as e:\n",
    "            st.error(\"Error fetching papers. Please try again later.\")\n",
    "            return []\n"
   ],
   "metadata": {
    "collapsed": false,
    "ExecuteTime": {
     "end_time": "2024-11-11T20:38:18.094877900Z",
     "start_time": "2024-11-11T20:38:18.091092700Z"
    }
   }
  },
  {
   "cell_type": "code",
   "execution_count": 5,
   "outputs": [],
   "source": [
    "retriever = ArXivRetriever()"
   ],
   "metadata": {
    "collapsed": false,
    "ExecuteTime": {
     "end_time": "2024-11-11T20:38:19.395285600Z",
     "start_time": "2024-11-11T20:38:19.391587900Z"
    }
   }
  },
  {
   "cell_type": "code",
   "execution_count": 6,
   "outputs": [],
   "source": [
    "tools = [retriever.fetch_papers]"
   ],
   "metadata": {
    "collapsed": false,
    "ExecuteTime": {
     "end_time": "2024-11-11T20:38:20.982763400Z",
     "start_time": "2024-11-11T20:38:20.979243500Z"
    }
   }
  },
  {
   "cell_type": "code",
   "execution_count": 7,
   "outputs": [],
   "source": [
    "from langchain_core.prompts import ChatPromptTemplate"
   ],
   "metadata": {
    "collapsed": false,
    "ExecuteTime": {
     "end_time": "2024-11-11T20:38:28.873758500Z",
     "start_time": "2024-11-11T20:38:28.226169Z"
    }
   }
  },
  {
   "cell_type": "code",
   "execution_count": 9,
   "outputs": [],
   "source": [
    "prompt_template = ChatPromptTemplate.from_messages(\n",
    "    [\n",
    "        (\"system\",\"You are the research paper retriever agent, user will tell you the topic, description or any information related to research paper, you have to efficiently generate relevant topic from user's input and then return {n} relevant research papers related to that topic.:\"),\n",
    "        (\"user\",\"{user_requirement}\"),\n",
    "        (\"assistant\",\"{agent_scratchpad}\")\n",
    "    ]\n",
    ")"
   ],
   "metadata": {
    "collapsed": false,
    "ExecuteTime": {
     "end_time": "2024-11-11T20:38:31.141892600Z",
     "start_time": "2024-11-11T20:38:31.138732200Z"
    }
   }
  }
 ],
 "metadata": {
  "kernelspec": {
   "display_name": "Python 3",
   "language": "python",
   "name": "python3"
  },
  "language_info": {
   "codemirror_mode": {
    "name": "ipython",
    "version": 2
   },
   "file_extension": ".py",
   "mimetype": "text/x-python",
   "name": "python",
   "nbconvert_exporter": "python",
   "pygments_lexer": "ipython2",
   "version": "2.7.6"
  }
 },
 "nbformat": 4,
 "nbformat_minor": 0
}
