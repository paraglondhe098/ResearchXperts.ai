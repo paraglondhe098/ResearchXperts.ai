{
 "cells": [
  {
   "cell_type": "code",
   "execution_count": 267,
   "outputs": [],
   "source": [
    "import feedparser\n",
    "import requests\n",
    "import streamlit as st\n",
    "from langchain_mistralai import ChatMistralAI\n",
    "from typing import List, Any, Optional\n",
    "from utils.api_keys import fetch_api_key\n",
    "from dataclasses import dataclass\n",
    "from datetime import datetime\n",
    "import os\n",
    "from langchain_community.document_loaders import PyPDFLoader\n",
    "from sortedcontainers import SortedList\n",
    "from langchain.schema import Document\n",
    "from langchain.chains import create_retrieval_chain\n",
    "from langchain.chains.combine_documents import create_stuff_documents_chain\n",
    "from langchain_core.prompts import ChatPromptTemplate\n",
    "from langchain_chroma import Chroma\n",
    "from langchain_huggingface import HuggingFaceEmbeddings"
   ],
   "metadata": {
    "collapsed": false,
    "ExecuteTime": {
     "end_time": "2024-11-12T01:18:09.339485100Z",
     "start_time": "2024-11-12T01:18:09.333412200Z"
    }
   }
  },
  {
   "cell_type": "code",
   "execution_count": 311,
   "outputs": [],
   "source": [
    "def setup_environment():\n",
    "    os.environ[\"LANGCHAIN_TRACING_V2\"] = \"true\"\n",
    "    os.environ[\"LANGCHAIN_API_KEY\"] = fetch_api_key(\"langsmith\", False)\n",
    "    os.environ[\"MISTRAL_API_KEY\"] = fetch_api_key(\"mistral\", False)\n",
    "    os.environ[\"HF_TOKEN\"] = fetch_api_key(\"HuggingFace\",False)"
   ],
   "metadata": {
    "collapsed": false,
    "ExecuteTime": {
     "end_time": "2024-11-12T01:57:03.472355700Z",
     "start_time": "2024-11-12T01:57:03.463861500Z"
    }
   }
  },
  {
   "cell_type": "code",
   "execution_count": 312,
   "outputs": [
    {
     "name": "stdout",
     "output_type": "stream",
     "text": [
      "Key loading successful.\n",
      "Key loading successful.\n",
      "Key loading successful.\n"
     ]
    }
   ],
   "source": [
    "setup_environment()"
   ],
   "metadata": {
    "collapsed": false,
    "ExecuteTime": {
     "end_time": "2024-11-12T01:57:08.524432900Z",
     "start_time": "2024-11-12T01:57:08.506775400Z"
    }
   }
  },
  {
   "cell_type": "code",
   "execution_count": 269,
   "outputs": [],
   "source": [
    "@dataclass\n",
    "class ResearchPaper:\n",
    "    \"\"\"Schema for research paper details\"\"\"\n",
    "    id: str\n",
    "    title: str\n",
    "    category: str\n",
    "    authors: List[str]\n",
    "    author_comment: str\n",
    "    published: datetime\n",
    "    summary: str\n",
    "    link: str\n",
    "    pdf_url: str\n",
    "    journal_ref: str\n",
    "\n",
    "    @property\n",
    "    def content(self) -> str:\n",
    "        \"\"\"Returns a formatted string representation of the paper\"\"\"\n",
    "        return \"\\n\".join([\n",
    "            f\">>> Id: {self.id}\",\n",
    "            f\">>> Title: {self.title}\",\n",
    "            f\">>> Category: {self.category}\",\n",
    "            f\">>> Authors: {', '.join(self.authors)}\",\n",
    "            f\">>> Author Comment: {self.author_comment}\",\n",
    "            f\">>> Published: {self.published.strftime('%Y-%m-%d')}\",\n",
    "            f\">>> Summary: {self.summary}\",\n",
    "            f\">>> Link: {self.link}\",\n",
    "            f\">>> PDF URL: {self.pdf_url}\",\n",
    "            f\">>> Journal Reference: {self.journal_ref}\"\n",
    "        ])\n",
    "\n",
    "    def pretty_print(self):\n",
    "        print(self.content)"
   ],
   "metadata": {
    "collapsed": false,
    "ExecuteTime": {
     "end_time": "2024-11-12T01:18:10.027764200Z",
     "start_time": "2024-11-12T01:18:10.018065Z"
    }
   }
  },
  {
   "cell_type": "code",
   "execution_count": 270,
   "outputs": [],
   "source": [
    "class PaperManager:\n",
    "    \"\"\"Manages a sorted collection of research papers\"\"\"\n",
    "    def __init__(self):\n",
    "        self.papers = SortedList(key=lambda paper: paper.published)\n",
    "    def append(self, paper):\n",
    "        self.papers.add(paper)\n",
    "    def __getitem__(self, idx):\n",
    "        return self.papers[idx]\n",
    "\n",
    "    def get_papers_by_date_range(self, start_date: str, end_date: str) -> List[ResearchPaper]:\n",
    "        start = datetime.strptime(start_date, \"%m-%Y\")\n",
    "        end = datetime.strptime(end_date, \"%m-%Y\")\n",
    "\n",
    "        dummy_start = ResearchPaper(\n",
    "            id=\"\", title=\"\", category=\"\", authors=[],\n",
    "            author_comment=\"\", published=start, summary=\"\",\n",
    "            link=\"\", pdf_url=\"\", journal_ref=\"\"\n",
    "        )\n",
    "        dummy_end = ResearchPaper(\n",
    "            id=\"\", title=\"\", category=\"\", authors=[],\n",
    "            author_comment=\"\", published=end, summary=\"\",\n",
    "            link=\"\", pdf_url=\"\", journal_ref=\"\"\n",
    "        )\n",
    "\n",
    "        start_idx = self.papers.bisect_left(dummy_start)\n",
    "        end_idx = self.papers.bisect_right(dummy_end)\n",
    "\n",
    "        return list(self.papers[start_idx:end_idx])"
   ],
   "metadata": {
    "collapsed": false,
    "ExecuteTime": {
     "end_time": "2024-11-12T01:18:10.836039700Z",
     "start_time": "2024-11-12T01:18:10.828787Z"
    }
   }
  },
  {
   "cell_type": "code",
   "execution_count": 271,
   "outputs": [],
   "source": [
    "class ArXivRetriever:\n",
    "    \"\"\"Handles retrieval of papers from ArXiv API\"\"\"\n",
    "    def __init__(self, api_url: str =\"http://export.arxiv.org/api/query?\"):\n",
    "        self.api_url = api_url\n",
    "\n",
    "    def fetch_papers(self, query: str, max_results: int=5):\n",
    "        query_url = f\"{self.api_url}search_query=all:{query}&max_results={max_results}\"\n",
    "        try:\n",
    "            response = requests.get(query_url, timeout=10)\n",
    "            response.raise_for_status()\n",
    "            feed = feedparser.parse(response.content)\n",
    "            papers = PaperManager()\n",
    "            for entry in feed.entries:\n",
    "                paper_id = entry.id.split(\"/\")[-1]\n",
    "                paper = ResearchPaper(\n",
    "                    id = paper_id,\n",
    "                    title = entry.title,\n",
    "                    category = entry.category,\n",
    "                    authors = [author.name for author in entry.authors],\n",
    "                    author_comment = entry.get(\"arxiv_comment\", \"No comments available\"),\n",
    "                    published = datetime.strptime(entry.published, \"%Y-%m-%dT%H:%M:%SZ\"),\n",
    "                    summary = entry.summary,\n",
    "                    link =entry.link,\n",
    "                    pdf_url = f\"https://arxiv.org/pdf/{paper_id}.pdf\",\n",
    "                    journal_ref = entry.get(\"arxiv_journal_ref\", \"No journal reference\")\n",
    "                )\n",
    "                papers.append(paper)\n",
    "            return papers\n",
    "        except requests.exceptions.RequestException as e:\n",
    "            st.error(\"Error fetching papers. Please try again later.\")\n",
    "            return PaperManager()"
   ],
   "metadata": {
    "collapsed": false,
    "ExecuteTime": {
     "end_time": "2024-11-12T01:18:11.390226500Z",
     "start_time": "2024-11-12T01:18:11.383553800Z"
    }
   }
  },
  {
   "cell_type": "code",
   "execution_count": 272,
   "outputs": [],
   "source": [
    "class PaperSearchAssistant:\n",
    "    \"\"\"Assistant that uses LLM to optimize search queries and fetch papers\"\"\"\n",
    "\n",
    "    def __init__(self, llm: Any):\n",
    "        self.llm = llm\n",
    "        self.arxiv_retriever = ArXivRetriever()\n",
    "\n",
    "        self.prompt = ChatPromptTemplate.from_messages([\n",
    "            (\"system\", \"\"\"You are a research paper search assistant. Your task is to:\n",
    "            1. Analyze the user's query\n",
    "            2. Correct any spelling mistakes\n",
    "            3. Format it into an optimal search query for ArXiv\n",
    "            4. Return only the reformulated query without any additional text or explanations.\n",
    "\n",
    "            Make sure to:\n",
    "            - Preserve technical terms and acronyms\n",
    "            - Use Boolean operators (AND, OR) when appropriate\n",
    "            - Include relevant synonyms for important terms\"\"\"),\n",
    "            (\"user\", \"{query}\")\n",
    "        ])\n",
    "\n",
    "\n",
    "    def search_papers(self, query: str,\n",
    "                      max_results: int = 5) -> List[ResearchPaper]:\n",
    "        \"\"\"Search for papers on ArXiv and return List of ResearchPaper objects\"\"\"\n",
    "        chain = self.prompt | self.llm\n",
    "        cleaned_query = chain.invoke({\"query\": query}).content\n",
    "        papers = self.arxiv_retriever.fetch_papers(cleaned_query, max_results=max_results)\n",
    "        return papers"
   ],
   "metadata": {
    "collapsed": false,
    "ExecuteTime": {
     "end_time": "2024-11-12T01:18:12.193925300Z",
     "start_time": "2024-11-12T01:18:12.186410300Z"
    }
   }
  },
  {
   "cell_type": "code",
   "execution_count": 307,
   "outputs": [],
   "source": [
    "class PaperAssistant:\n",
    "    \"\"\"\n",
    "    A class for reading PDFs and answering questions using RAG (Retrieval Augmented Generation).\n",
    "    \"\"\"\n",
    "\n",
    "    def __init__(\n",
    "        self,\n",
    "        paper: ResearchPaper,\n",
    "        llm: Any,\n",
    "        embedding_model: Optional[Any]=None,\n",
    "        k: int = 10,\n",
    "        cache_dir: Optional[str] = None\n",
    "    ):\n",
    "        \"\"\"\n",
    "        Initialize the PDF reader with a language model and document source.\n",
    "        \"\"\"\n",
    "        self.paper = paper\n",
    "        self.llm = llm\n",
    "        self.embedding_model = embedding_model\n",
    "        self.k = k\n",
    "        self.cache_dir = cache_dir\n",
    "        self.docs: List[Document] = []\n",
    "\n",
    "        self._initialize_vectorstore()\n",
    "        self._setup_rag_chain()\n",
    "\n",
    "    def _initialize_vectorstore(self) -> None:\n",
    "        \"\"\"\n",
    "        Initialize the vector store with document embeddings.\n",
    "        \"\"\"\n",
    "        try:\n",
    "            self.docs = self._pdf_to_documents(self.paper.pdf_url)\n",
    "            if not self.docs:\n",
    "                raise ValueError(\"No content extracted from PDF\")\n",
    "            if not self.embedding_model:\n",
    "                self.embedding_model = HuggingFaceEmbeddings( model_name = \"sentence-transformers/all-MiniLM-L6-v2\")\n",
    "            self.vectorstore = Chroma.from_documents(documents=self.docs, embedding=self.embedding_model)\n",
    "            self.retriever = self.vectorstore.as_retriever(search_type=\"similarity\", search_kwargs={\"k\": self.k})\n",
    "\n",
    "        except Exception as e:\n",
    "            raise ValueError(f\"Failed to initialize vector store: {str(e)}\")\n",
    "\n",
    "    def _setup_rag_chain(self) -> None:\n",
    "        \"\"\"\n",
    "        Set up the RAG chain for question answering.\n",
    "        \"\"\"\n",
    "        system_prompt = f\"\"\"\n",
    "        You are an assistant for answering questions about the research paper titled:\n",
    "        \"{self.paper.title}\"\n",
    "\n",
    "        Paper Context (Reference only when relevant):\n",
    "        1. Category: {self.paper.category}\n",
    "        2. Authors: {', '.join(self.paper.authors)}\n",
    "        3. Published in {self.paper.published.strftime('%Y-%m-%d')}\n",
    "\n",
    "        Use the following pieces of retrieved context to answer the question.\n",
    "        If you don't know the answer, say that you don't know.\n",
    "        Use three sentences maximum and keep the answer concise.\n",
    "\n",
    "        Context:\n",
    "        {{context}}\n",
    "        \"\"\"\n",
    "\n",
    "        prompt = ChatPromptTemplate.from_messages([\n",
    "            (\"system\", system_prompt),\n",
    "            (\"human\", \"{input}\")\n",
    "        ])\n",
    "\n",
    "        question_answer_chain = create_stuff_documents_chain(self.llm, prompt)\n",
    "        self.rag_chain = create_retrieval_chain( self.retriever, question_answer_chain)\n",
    "\n",
    "    @staticmethod\n",
    "    def _pdf_to_documents(url) -> List[Document]:\n",
    "        loader = PyPDFLoader(url)\n",
    "        pages = []\n",
    "        for page in loader.lazy_load():\n",
    "                pages.append(page)\n",
    "        return pages\n",
    "\n",
    "    async def a_answer(self, question: str) -> Optional[dict]:\n",
    "        try:\n",
    "            response = await self.rag_chain.ainvoke({\n",
    "                \"input\": question\n",
    "            })\n",
    "            return response\n",
    "        except Exception as e:\n",
    "            raise ValueError(f\"Failed to process question: {str(e)}\")\n",
    "\n",
    "    def answer(self, question: str) -> Optional[dict]:\n",
    "        try:\n",
    "            response = self.rag_chain.invoke({\n",
    "                \"input\": question\n",
    "            })\n",
    "            return response\n",
    "        except Exception as e:\n",
    "            raise ValueError(f\"Failed to process question: {str(e)}\")\n",
    "\n",
    "    def pages(self) -> int:\n",
    "        \"\"\"Return the number of pages in the pdf file.\"\"\"\n",
    "        return len(self.docs)\n",
    "\n",
    "    def get_average_chunk_size(self) -> float:\n",
    "        \"\"\"Return the average chunk size in characters.\"\"\"\n",
    "        if not self.docs:\n",
    "            return 0\n",
    "        return sum(len(doc.page_content) for doc in self.docs) / len(self.docs)\n",
    "\n",
    "    def get_paper_stats(self) -> dict:\n",
    "        \"\"\"\n",
    "        Get comprehensive statistics about the paper.\n",
    "\n",
    "        Returns:\n",
    "            Dictionary containing paper statistics and metadata\n",
    "        \"\"\"\n",
    "        word_counts = [len(doc.page_content.split()) for doc in self.docs]\n",
    "        return {\n",
    "            \"paper_info\": {\n",
    "                \"title\": self.paper.title,\n",
    "                \"authors\": self.paper.authors,\n",
    "                \"category\": self.paper.category,\n",
    "                \"published_date\": self.paper.published.strftime('%Y-%m-%d'),\n",
    "                \"journal_ref\": self.paper.journal_ref\n",
    "            },\n",
    "            \"content_stats\": {\n",
    "                \"total_pages\": self.pages(),\n",
    "                \"total_words\": sum(word_counts),\n",
    "                \"average_words_per_page\": round(sum(word_counts) / len(word_counts) if word_counts else 0, 2),\n",
    "                \"average_chunk_size\": round(self.get_average_chunk_size(), 2)\n",
    "            },\n",
    "            \"processing_info\": {\n",
    "                \"embedding_model\": self.embedding_model,\n",
    "                \"retrieval_chunks\": self.k,\n",
    "                \"vectorstore_documents\": len(self.docs)\n",
    "            }\n",
    "        }"
   ],
   "metadata": {
    "collapsed": false,
    "ExecuteTime": {
     "end_time": "2024-11-12T01:48:32.337663700Z",
     "start_time": "2024-11-12T01:48:32.326657600Z"
    }
   }
  },
  {
   "cell_type": "code",
   "execution_count": 283,
   "outputs": [],
   "source": [
    "llm = ChatMistralAI(model = \"mistral-large-2402\")\n",
    "assistant = PaperSearchAssistant(llm = llm)"
   ],
   "metadata": {
    "collapsed": false,
    "ExecuteTime": {
     "end_time": "2024-11-12T01:19:22.622024300Z",
     "start_time": "2024-11-12T01:19:22.100186600Z"
    }
   }
  },
  {
   "cell_type": "code",
   "execution_count": 284,
   "outputs": [],
   "source": [
    "query = \"Meuchanical peokperties of Still\"\n",
    "results = assistant.search_papers(query)"
   ],
   "metadata": {
    "collapsed": false,
    "ExecuteTime": {
     "end_time": "2024-11-12T01:19:24.495271Z",
     "start_time": "2024-11-12T01:19:22.623405700Z"
    }
   }
  },
  {
   "cell_type": "code",
   "execution_count": 285,
   "outputs": [
    {
     "name": "stdout",
     "output_type": "stream",
     "text": [
      ">>> Id: 1202.4135v1\n",
      ">>> Title: Nanoscale austenite reversion through partitioning, segregation, and\n",
      "  kinetic freezing: Example of a ductile 2 GPa Fe-Cr-C steel\n",
      ">>> Category: cond-mat.mtrl-sci\n",
      ">>> Authors: L. Yuan, D. Ponge, J. Wittig, P. Choi, J. A. Jiménez, D. Raabe\n",
      ">>> Author Comment: in press Acta Materialia 2012\n",
      ">>> Published: 2012-02-19\n",
      ">>> Summary: Austenite reversion during tempering of a Fe-13.6Cr-0.44C (wt.%) martensite\n",
      "results in an ultrahigh strength ferritic stainless steel with excellent\n",
      "ductility. The austenite reversion mechanism is coupled to the kinetic freezing\n",
      "of carbon during low-temperature partitioning at the interfaces between\n",
      "martensite and retained austenite and to carbon segregation at\n",
      "martensite-martensite grain boundaries. An advantage of austenite reversion is\n",
      "its scalability, i.e., changing tempering time and temperature tailors the\n",
      "desired strength-ductility profiles (e.g. tempering at 400{\\deg}C for 1 min.\n",
      "produces a 2 GPa ultimate tensile strength (UTS) and 14% elongation while 30\n",
      "min. at 400{\\deg}C results in a UTS of ~ 1.75 GPa with an elongation of 23%).\n",
      "The austenite reversion process, carbide precipitation, and carbon segregation\n",
      "have been characterized by XRD, EBSD, TEM, and atom probe tomography (APT) in\n",
      "order to develop the structure-property relationships that control the\n",
      "material's strength and ductility.\n",
      ">>> Link: http://arxiv.org/abs/1202.4135v1\n",
      ">>> PDF URL: https://arxiv.org/pdf/1202.4135v1.pdf\n",
      ">>> Journal Reference: Acta Materialia 60 (2012) 2790-2804\n"
     ]
    }
   ],
   "source": [
    "results[0].pretty_print()"
   ],
   "metadata": {
    "collapsed": false,
    "ExecuteTime": {
     "end_time": "2024-11-12T01:19:24.500369500Z",
     "start_time": "2024-11-12T01:19:24.497644800Z"
    }
   }
  },
  {
   "cell_type": "code",
   "execution_count": 286,
   "outputs": [
    {
     "data": {
      "text/plain": "'https://arxiv.org/pdf/1202.4135v1.pdf'"
     },
     "execution_count": 286,
     "metadata": {},
     "output_type": "execute_result"
    }
   ],
   "source": [
    "results[0].pdf_url"
   ],
   "metadata": {
    "collapsed": false,
    "ExecuteTime": {
     "end_time": "2024-11-12T01:19:25.685415900Z",
     "start_time": "2024-11-12T01:19:25.681943700Z"
    }
   }
  },
  {
   "cell_type": "code",
   "execution_count": 287,
   "outputs": [],
   "source": [
    "file_path = results[0].pdf_url"
   ],
   "metadata": {
    "collapsed": false,
    "ExecuteTime": {
     "end_time": "2024-11-12T01:19:26.950448100Z",
     "start_time": "2024-11-12T01:19:26.941058800Z"
    }
   }
  },
  {
   "cell_type": "code",
   "execution_count": 288,
   "outputs": [],
   "source": [
    "loader = PyPDFLoader(file_path)"
   ],
   "metadata": {
    "collapsed": false,
    "ExecuteTime": {
     "end_time": "2024-11-12T01:19:28.619058600Z",
     "start_time": "2024-11-12T01:19:28.179415400Z"
    }
   }
  },
  {
   "cell_type": "code",
   "execution_count": 289,
   "outputs": [
    {
     "data": {
      "text/plain": "'https://arxiv.org/pdf/1202.4135v1.pdf'"
     },
     "execution_count": 289,
     "metadata": {},
     "output_type": "execute_result"
    }
   ],
   "source": [
    "file_path"
   ],
   "metadata": {
    "collapsed": false,
    "ExecuteTime": {
     "end_time": "2024-11-12T01:19:30.483826800Z",
     "start_time": "2024-11-12T01:19:30.472298300Z"
    }
   }
  },
  {
   "cell_type": "code",
   "execution_count": 172,
   "outputs": [],
   "source": [
    "pages = []\n",
    "async for page in loader.alazy_load():\n",
    "    pages.append(page)"
   ],
   "metadata": {
    "collapsed": false,
    "ExecuteTime": {
     "end_time": "2024-11-11T23:27:12.017929900Z",
     "start_time": "2024-11-11T23:27:10.606113800Z"
    }
   }
  },
  {
   "cell_type": "code",
   "execution_count": 173,
   "outputs": [
    {
     "data": {
      "text/plain": "[Document(metadata={'source': 'https://arxiv.org/pdf/1202.4135v1.pdf', 'page': 0}, page_content='1 \\n \\nNanoscale austenite reversion through partitioning, segregation, \\nand kinetic freezing: Example of a ductile 2 GPa Fe-Cr-C steel \\n \\n \\n \\nL. Yuan1, D. Ponge1, J. Wittig1,2, P. Choi1, J. A. Jiménez3, D. Raabe1 \\n \\n1  Max-Planck-Institut für Eisenforschung, Max-Planck-Str. 1, 40237 Düsseldorf, Germany \\n2  Vanderbilt University, Nashville, TN 37235-1683, USA \\n3  CENIM-CSIC, Avda. Gregorio del Amo 8, 28040-Madrid, Spain \\n \\n \\n \\nAbstract  \\nAustenite reversion during tempering of a Fe -13.6Cr-0.44C (wt.%) martensit e results in an ultra -\\nhigh strength ferritic stainless steel with excellent ductility. The austenite reversion mechanism is \\ncoupled to the kinetic freezing of carbon during low-temperature partitioning at the interfaces \\nbetween martensite and retained austenite and to carbon segregation at martensite -martensite grain \\nboundaries. An advantage of austenite reversion is its scalability, i.e., changing tempering time and \\ntemperature tailors the desired strength -ductility profiles (e.g. tempering at 400°C for 1 min. \\nproduces a 2 GPa ultimate tensile strength (UTS) and 14% elongation while 30 min. a t 400°C \\nresults in a UTS of ~ 1.75 GPa with an elongation of 23%).  The austenite reversion process, \\ncarbide precipitation, and carbon segregation have been characterized by XRD, EBSD, TEM, and \\natom probe tomography (APT) in order to develop the structure -property relationships that control \\nthe material’s strength and ductility. \\n \\n \\nKey words: austenite reversion, partitioning, diffusion, strength, ductility, ultra high strength, \\ncarbon partitioning, martensite, stainless steel, atom probe tomography, electron backscatter \\ndiffraction \\n*Text only\\nClick here to view linked References'),\n Document(metadata={'source': 'https://arxiv.org/pdf/1202.4135v1.pdf', 'page': 1}, page_content='2 \\n \\n  \\n1. Introduction \\nA high demand exists for lean, ductile, and high strength Fe-Cr stainless steels in the fields of \\nenergy conversion, mobility, and industrial infrastructure . As c onventional martensitic stainless \\nsteels (MSS) typically exhibit brittle behavior, supermartensitic Fe-Cr stainless steels (SMSS) with \\nenhanced ductility  have been designed in the past years by reducing carbon (<0.03  wt.%) and \\nadding nickel (4%-6.5 wt.%) and molybdenum (2.5  wt.%) [1-4]. The heat-treated microstructures of \\nthese materials are characterized by tempered martensite and retained austenite[1-4].  \\nIn this work  we present an alternative approach of designing MSS steels with both, high strength \\nand ductility. Our method is based on nanoscale austenite reversion and martensite relaxation  via a \\nmodest heat treatment at 300-500°C for several minutes . We make the surprising observation that \\nthis method leads to very high strength (up to 2 GPa) of a Fe -13.6Cr-0.44C (wt.%) steel without \\nloss in ductility (X44Cr13, 1.4034, AISI 420). \\nQuenching followed by tempering is known to improve the strength and toughness of martensitic \\nsteels[5-7]. Specifically, quench and partitioning (Q&P) treatments are efficient for producing steels \\nwith retained austenite  and improved ductility [8]. The heat treatment sequence for Q&P steel \\ninvolves quenching to a temperature between the martensite -start (Ms) and martensite -finish (Mf) \\ntemperatures, followed by a partitioning treatment either at, or above, the initial quench temperature. \\nPartitioning is typically designed in a way to enrich and stabilize the retained austenite with carbon \\nfrom the supersaturated  martensite [9]. In conventional Q&P processes, the quench temperature i s \\nhence chosen in a way that some retained austenite prevails and subsequent tempering leads to \\ncarbon partitioning between martensite and austenite. Typically, no new austenite is formed during \\npartitioning.  \\nIn our study we modify this approach with the aim to increase the amount of austenite during low-\\ntemperature partitioning. We start with austenitization and water quenching to room temperature. \\nThis provides a martensitic-austenitic starting microstructure. During a subsequent heat treatment in \\nthe range 300°C -500°C, austenite reversion [10-15] takes place on the basis of partial partitioning \\naccording to local equilibrium, segregation, and kinetic freezing of carbon inside the newly formed \\naustenite.  \\nIt is important to po int out that the phenomena occurring during austenite reversion are in the \\npresent case different from conventional Q&P approaches: In Q&P processing, the carbon diffuses '),\n Document(metadata={'source': 'https://arxiv.org/pdf/1202.4135v1.pdf', 'page': 2}, page_content='3 \\n \\nfrom martensite into the already present austenite during tempering  where equilibrati on of the \\ncarbon distribution inside the austenite is generally assumed. In the current case of low-temperature \\npartitioning, however, the carbon is enriched in front of the austenite boundary and accumulates \\nthere since it has a much higher diffusion rate in bcc than in fcc. The accumulated carbon at the \\nmartensite-austenite interface than provides a high local driving force for austenite reversion.  Once \\ncaptured by the growing austenite, the carbon is kinetically frozen owing to its small mobility in fcc. \\nThe phenomena occurring during austenite reversion in Fe-Cr-C stainless steels are complex due to \\nthe high content of carbon and substitutional alloying elements. In contrast to typical Q&P steels \\nwhere carbide precipitation  (M3C) is suppressed by alloying with Si and/or Al [16], in the present \\nalloy M3C-type carbide precipitation occurs at 400°C. This means that a kinetic and thermodynamic \\ncompetition exists for carbon between austenite reversion , enrichment of retained austenite,  and \\ncarbide formation during tempering.  \\nTherefore, the partitioning temperature must be chosen on a theoretically well founded basis for \\ntwo reasons: First, low temperature annealing requires more local carbon enrichment to provide a \\ndriving force high en ough for austenite reversion . We emphasize in this context that the local \\nequilibrium matters for this process, i.e. a high carbon content is required at the martensite -\\naustenite interface (not everywhere within the austenite) . Equilibration of the carbon inside of the \\naustenite is not necessarily required.  Second, high temperature annealing may cause more carbide \\nformation, consuming too much carbon, so that austenite reversion is suppressed due to an \\ninsufficient carbon chemical potential to promote it.  \\nIn order to elucidate the competing phenomena occurring during such low-temperature partitioning, \\nnamely, carbide formation vs. austenite reversion  as well as the carbon redistribution inside the \\nretained and reversed austenite fractions , atom probe tomogr aphy (APT) was used . This method \\nallows us to measure the carbon content inside the austenite, which determines its stability, as well \\nas inside the martensite and the carbides [17-28]. The APT  method allows for three-dimensional \\nelemental mapping with nearly atomic resolution and provides information about internal interfaces \\nand local chemical gradients[28-32].  \\n \\n2. Experimental \\nThe material used in this study was a martensitic stainless steel with the chemical composition Fe-\\n13.6Cr-0.44C (wt.%; 1.4034, X44Cr13, AISI 420 ) which was provided by Thy ssenKrupp Nirosta '),\n Document(metadata={'source': 'https://arxiv.org/pdf/1202.4135v1.pdf', 'page': 3}, page_content='4 \\n \\nas a cold rolled sheet, table 1. The Ae3 temperature, calculated by Thermo-Calc[33] using the TCFE5 \\ndata base[34], indicates that the incipient holding temperature for full austenitization should be above \\n800°C. The calculation further reveals that full dissolution  of chromium carbides in austenite is \\nachieved at about 1100°C. Hence, the annealing conditions were set to 1150°C for 5 minutes.  \\nDilatometer tests were performed using a Bähr Dil805 A/D quenching and deformation device to \\nidentify the Ms temperature during quenching. After water quenching, tempering at 300°C, 400°C, \\nand 500°C, respectively, with different holding times was performed to study carbon redistribution, \\naustenite reversion, and carbide formation (Fig. 1).  \\nMechanical properties were determined by tensile and Vickers hardness measurements (980N load, \\nHV10). Tensile tests were carried out along the rolling direction of the samples at room temperature. \\nFlat tensile specimens were machined with a cross section of 2.5mm x 8mm and a gauge length of \\n40mm. The tests were conducted on a Zwick/Roell Z100 tensile testing machine at a constant cross \\nhead speed of 1mm/min, corresponding to an initial strain rate of 4.2\\uf0b410-4s-1. \\nThe volume fraction of the austenite phase after heat treatments (carbide dissolution annealing and \\ntempering at 400ºC for 1, 2, 10 and 30 minutes) was measured by x -ray diffractometry (XRD), \\nelectron back scattering diffraction (EBSD), and magnetic characterization (Feritscope MP30E-S).  \\nEBSD samples were prepared by standard mechanical grinding and polishing procedures  normal to \\nthe rolling direction. Subsequently, these samples were electropolished using Struers electrolyte A3 \\nat room temperature using a voltage of 40V, a flow rate of 20/s and a polishing time of 20 s. EBSD \\nwas performed on a JEOL -6500F high-resolution field-emission scanning electron microscope \\noperated at 15 kV [35].  \\nX ray diffraction (XRD) measurements were carried out using Co Kα radiation. XRD data were \\ncollected over a 2 \\uf071 range of 30 -138º with a step width of 0.05º and a counting time of 10 s/step. \\nThe Rietveld method was used for the calculation of the structural parameters from the diffraction \\ndata of the polycrystalline bulk materials. We used version 4.0 of the Rietveld analysis program \\nTOPAS (Bruker AXS). The analysis protocol included consideration of background, zero \\ndisplacement, scale factors, peak breath, unit cell parameter , and texture parameters. The room \\ntemperature structures used in the refinement were martensite/ferrite and austenite.  \\nThin foils were prepared using standar d twin-jet electropolishing from the as -quenched material \\nand the tempered samples  before and after deformation [36]. These samples  were examine d in a \\nPhilips CM 20 transmission electron microscope (TEM) at an acceleration voltage of 200 kV  to '),\n Document(metadata={'source': 'https://arxiv.org/pdf/1202.4135v1.pdf', 'page': 4}, page_content='5 \\n \\ncharacterize the carbide evolution and the formation of reverted austenite . Carbide characterization \\nwas also carried out by using a carbon extraction replica technique [37] and investigated by electron \\ndiffraction and energy dispersive spectroscopy (EDS) in the TEM. \\nNeedle-shaped APT samples were prepared  applying a combination of standard electropolishing \\nand subsequent ion-milling with a focused-ion-beam (FIB) device. APT analyses were performed \\nwith a local electrode atom probe (LEAPTM 3000X HR) in voltage mode at a specimen temperature \\nof about 60 K. The pulse to base voltage ratio and the pulse rate were 15% and 200 kHz , \\nrespectively. Data analysis was performed using the IVAS software (Cameca Instruments).  \\n \\n3. Results  \\n3.1 Mechanical properties \\nThe as-received cold rolled and recrystallized material has an ultimate tensile strength (UTS) of 640 \\nMPa and a uniform elongation of 19% , Fig. 2a . After austenitization at 1150°C and water \\nquenching, the material is brittle and fail s before the yield stress is reached at a stress of 400 MPa  \\n(Fig. 2a). Thus, the true UTS for the as quenched state could be only estimated from the indentation \\nhardness. The relationship between Vickers hardness (HV) and tensile strength was calculated \\nconsidering a linear relationship of the form \\uf044HV = K × \\uf044UTS.  A constant K of 3.5 was \\ndetermined by linear regression through data obtained from the hardness and UTS valu es obtained \\nfrom samples after tempering at 400ºC for different times. Fig 2e  suggests that the hardness for the \\nas-quenched state corresponds to a tensile strength of more than 2300 MPa. \\nFig. 2a also shows the stress -strain curves obtained from the tensil e tests performed on samples \\ntempered at 400ºC for different times.  The most remarkable feature of these curves is the transition \\nfrom a brittle behavior in the as quenched material to a ductile one after tempering. When the \\ntempering time is increased, w e observe an increase in uniform elongation and a decrease in UTS.  \\nAfter 30 minutes, the uniform elongation of the sample reaches a value of about 22% and a UTS \\nabove 1760 MPa.  This value for the UTS can be also reached upon tempering at 500°C, but in th is \\ncase, a gradual increase in total elongation upon increase in tempering time is not observed, Fig 2b.  \\nIt can be observed that in this case the stress does not go through a maximum; that is, \\uf0b6\\uf073/\\uf0b6e (the \\npartial derivative of the stress with respect to st rain) does not go through zero. This would indicate \\nthat the sample fractures before the strain reaches the necking value. At 300°C, after 1 minute, the \\nductility improves slightly, i.e. longer tempering is required for obtaining better ductility at this '),\n Document(metadata={'source': 'https://arxiv.org/pdf/1202.4135v1.pdf', 'page': 5}, page_content='6 \\n \\ntemperature, as shown in Fig. 2c. When comparing the mechanical properties of samples tempered \\nat different temperatures (Fig. 2d), the 400 °C treatment yields the optimum improvement in both \\nUTS and total elongation (TE). \\n \\n3.2  Phase fractions and kinetics: predictions and experiments \\nThermo-Calc was used to calculate the phase equilibrium at the different partitioning temperatures. \\nFor evaluating kinetics during heating and cooling, we conducted dilatometer tests (Fig. 3 ). The \\nheating and cooling rates were  set to 10  K/s and -30 K/s, respectively . Above 876°C, the \\nmicrostructure is fully austeni tic. The M s temperatures were derived from the dilatometer tests \\n(118°C after 1150°C annealing and 360°C after 950°C annealing).  The Thermo-Calc calculations \\nwere used  to predict the equilibrium carbon content of the austenite after annealing at different \\ntemperatures (Fig. 3c).  \\nFig. 4 shows the phase fraction of austenite versus tempering time for 400°C  measured by \\nferitscope (magnetic signal), EBSD, and XRD. For the as-quenched state the EBSD result provides \\na higher volume fraction (20%) than the magnetic (14.5%) and the XRD data (8%) which is \\nattributed to the limited statistics of the EBSD method. During the first 2 minutes  of tempering the \\namount of austenite incr eases rapidly, indicating austenite  reversion. After 30 minutes, nearly 40  \\nvol.% austenite is observed consistently for all three methods.  \\nFig. 5 shows in situ EBSD observations of the austenite during tempering . Fig. 5(a) maps the \\nmaterial in the as-quenched state containing only retained austenite.  Fig. 5(b) shows the same area \\nduring the in-situ experiment containing both, retained plus reverted austenite after 5 minutes \\ntempering at 400°C  subsequent to the quenching treatmen t. The EBSD map reveals the fine \\ndispersion of the n ewly formed reverted austenite after 5 minutes. We observe two kinds of \\naustenite, namely, one with a coarse topology and another one with a fine and dispersed topology. \\nThe microstructures of the samples tempered for 0, 1 and 2 minutes, respectively, are shown in Fig. \\n6. The as-quenched material (0 minute tempering) is brittle and failed already in the elastic regime \\nduring tensile testing. From the microstructure it can be seen (Fig. 6 b, left: before tensile test; right: \\nafter tensile test, for each state) that only a small amount of austenite was transformed to martensite \\nwhen the material failed , i.e. austenite bands can still be observed near the f racture interface. For \\nsamples after 400°C tempering , no premature failure takes place and the total elongation (TE) \\nreaches 14%  (engineering strain) . The microstructure at the fracture zone shows nearly no '),\n Document(metadata={'source': 'https://arxiv.org/pdf/1202.4135v1.pdf', 'page': 6}, page_content='7 \\n \\nremaining austenite. This observation indicates that deformation-driven austenite-to-martensite \\ntransformation t akes place. Secondary cracks along the tensile direction are visible in the EBSD \\nmaps. It seems that these cracks follow the band -like former retained austenite regions, which \\ntransformed during straining into martensite. \\n \\n \\n3.3 TEM characterization \\nAfter solid solution and subsequent water quenching, we found no retained austenite in the TEM \\nfoils (Figs. 7a,b). This is in contrast to the results obtained from the EBSD maps which show \\nretained austenite in the as -quenched state (Figs. 5,6). We attribu te this discrepancy between TEM \\nand EBSD results to the fact that the as -quenched metastable retained austenite - when thinned for \\nTEM analysis - is no longer constrained by the surrounding martensite and hence transforms into \\nmartensite.  \\nAfter 1 minute t empering at 400°C we observe a high tensile strength of 2 GPa, Fig. 2a. The \\ncorresponding microstructure was monitored by TEM, Fig. 7. Figs. 7c,d give an overview of the \\nnanoscaled elongated carbides formed during tempering.  \\nThe carbides have an average l ength of 70nm and an average width of 5nm. After 30 minutes \\ntempering the average particle spacing is about 80nm and the length 110 nm. The carbides after 1 \\nminute tempering at 400°C were examined via carbon extraction replica. The diffraction patterns \\nreveal that they have M3C structure. This means that the formation of M 23C6 carbides is suppressed \\nat such a low tempering temperature. Energy Dispersive Spectroscopy (EDS) analys es showed that \\nthe metal content in the carbide (M in M 3C) amounts to 74 at.%  Fe and 26 at.% Cr, i.e. the Cr/Fe \\natomic ratio is 0.35. Th e measured chromium content in  the M3C carbides significantly deviates \\nfrom the nominal chromium concentration of 14.2 at.% Cr / 82.5 at.% Fe = 0.17. \\nFig. 7e shows the formation of a thin austenite  layer that is located at a former martensite -\\nmartensite grain boundary. Fig. 7f is a close -up view of a thin austenite zone that is surrounded by \\nmartensite. Electron diffraction analysis reveals that a Kurdjumov -Sachs orientation relationship \\nexists between the martensite matrix and the thin austenite layer, Fig. 7g  [38]. In line with the in -situ \\nEBSD results in Fig. 5 , where we observed reverted austenite formed between martensitic grains, \\nthe austenite film observed here in TEM might be either retained or reversed austenite. In order to \\ndetermine more reliably which of the two kinds is observed local atomic scale chemical analysis is '),\n Document(metadata={'source': 'https://arxiv.org/pdf/1202.4135v1.pdf', 'page': 7}, page_content='8 \\n \\nconducted by using APT as outlined below. The two types of austenite can then be distinguished in \\nterms of their carbon co ntent: R etained austenite has at first the nominal quenched -in C content \\n(about 2 at.% in the present case) of the alloy while reverted austenite has a higher C content (up to \\n9 at.%) owing to local partitioning and kinetic freezing.   However, we also have to account for the \\npossibility that the retained austenite can have a higher C content as the lath martensite mechanism \\nis slow enough to allow for some C diffusion out of the martensite into the retained austenite during \\nquenching. \\n \\n3.4 Atom probe tomography \\nThe local chemical compositions and their changes during 400°C tempering of the martensite, \\naustenite, carbides, and interface regions were studied by atom probe tomography. Phase \\nidentification is in all cases achieved via the characteristic carbon content s of the present phases . \\nFig. 8 shows the 3D atom  maps after water quenching (Fig. 8a), water quenching plus tempering at \\n400°C for 1 min (Fig. 8b) , and water quenching plus tempering at 400°C for 30 minutes (Fig. 8c). \\nCarbon atoms are visualized as pink dots and carbon iso-concentration surfaces in green for a value \\nof 2 at.%. This value corresponds to the nominal carbon concentration of the alloy of 0.44 wt.%. \\nThe different phases (martensite, austenite, carbide) are marked. They were identified in terms of \\ntheir characteristic carbon content and the TEM and EBSD data presented above. For more \\nquantitative analys es, one-dimensional compositional  profiles of carbon across the martensite -\\nmartensite and martensite-austenite interfaces were plotted (along cylinders marked in yellow in the \\n3D atom maps). \\n \\n3.4.1 As-quenched condition \\nFig. 8a reveals that in the probed volume carbon is enriched along the martensite-austenite interface. \\nThe interface region , shown as composition profile in Fig. 8a , reveals an average  carbon \\nconcentration of about 1.90 at.% in the austenite with strong local variations and of about 0.98 at.% \\nin the abutting supersaturated martensite. The carbon concentration in the austenite nearly matches \\nthe nomi nal carbon concentration of the alloy. Some carbon clusters occur in both phases. The \\ncarbon concentration in these clusters is abo ut 3 at.%, i.e. they are not carbides. In a thin interface \\nlayer of only about 5 nm, the carbon content is very high and reaches a level of 4-6 at.%. In contrast '),\n Document(metadata={'source': 'https://arxiv.org/pdf/1202.4135v1.pdf', 'page': 8}, page_content='9 \\n \\nto the variation in the carbon distribution, the chromium content is the same in the martensite, the \\ninterface, and the austenite, Fig. 8a. \\n \\n3.4.2   400°C tempered condition after quenching \\nAfter 1 minute tempering at 400°C, a carbon enriched austenite layer (15-20 nm width) is observed \\nbetween two abutting martensite regions  (Fig. 8b). The thin austenite zone contains in average \\nabout 6.86 at.% carbon  while the martensite matrix contains only about 0.82 at.% carbon. The \\nidentification of the phases in these diagrams follows their characteristic carbon content.  \\nAfter 30 minutes tempering  (Fig. 8c), different carbon enriched areas appear. They correspond to \\nindividual phases. The analyzed volume can be divided into 2 zones. The top region with low \\ncarbon content corresponds to martensite. The bottom zone with higher carbon content corresponds \\nto austenite. Inside the martensitic region there are areas with very high carbon content (see arrow \\nin Fig. 8c). The carbon content is 25.1 at.% in this particle indicating M3C cementite stoichiometry. \\nIn the martensitic matrix surrounding the precipitate the carbon content amounts to only 0.48 at.%. \\nCarbon partitioning to the different phases can be quantified in terms of an enrichment factor ε=(at.% \\nC tempered)/(at.% C as quenched)  to compare the composition s in the phases before and after \\ntempering. The observed values of ε for each state are listed in Table 2.  The carbon content in the \\nmartensite decreases continuously duri ng tempering, which can be ascribed to carbon partitioning \\nfrom the super-saturated martensite to the austenite and to carbide formation [39-50].  \\n \\n4. Discussion \\n4.1 Mechanisms of partitioning and austenite reversion \\nThe microstructure observed by EBSD and TEM allows us to monitor the austenite development at \\nthe mesoscopic scale: during the initial high temperature solution annealing in the austenitic regime \\n(1150°C for 5 minutes), all carbides were dissolved (Fig. 3c). The high content of solute carbon that \\nis present in the austenite after carbide dissolution decreases the Ms and the Mf temperatures of the \\naustenite below room temperature. Hence, 8-20 vol.% retained austenite exists after quenching the \\nsolution annealed material to room temperature, Fig. 4. The differences in retained austenite are due \\nto the individual precision of the different characterization methods. EBSD provides a direct \\nmethod and hence is assumed to give a realistic value within its statistical limits.  '),\n Document(metadata={'source': 'https://arxiv.org/pdf/1202.4135v1.pdf', 'page': 9}, page_content='10 \\n \\nAfter tempering at 400°C for 30 minutes the area fraction of austenite increases to about 40%. This \\nchange documents that strong austenite reversion take s place even at this low temperature. The \\nlocal variation s in the austenite dispersion after short tempering were larger compare d to longer \\ntempering times. We attribute this heterogeneity in the re-austenitization kinetics and topology to \\nthe mean diffusion range of the carbon and to the distribution of the carbon sources. Using the data \\nof Speer et al. [40] for the diffusion coefficients in ferrite D α= 2 ×10-12 m2/s and in austenite Dγ= \\n5×10-17 m2/s we obtain a mean free path for carbon of 1.5×10-4 m in ferrite and 7.4×10-7 m in \\naustenite at 400°C and 30 minutes.  \\nThis means that austenite reversion starts at decorated defects (e.g. internal interfaces) where the \\nlocal carbon concentration is high enough and the nucleation energy low enough to promote the \\nformation of this phase. Fig. 7e confirms this assumption. The TEM analysis also suggests that \\naustenite re version proceeds via a Kurdjumov -Sachs orientation relationship. Shtansky et al .[38] \\nfound the same crystallographic relationship during reverse transformation in an Fe –17Cr–0.5C \\ntempered martensite (wt.%). \\nAn important aspect of the pronounced austenite reversion in the current case is that the competing \\nformation of M23C6 carbides is suppressed at 400°C.  This means that more carbon is available to \\nstabilize and promote austenite formation [38,45-47]. \\nWe used Thermo-Calc predictions[33,34] to estimate the driving force for austenite reversion for the \\ncurrent alloy and the employed tempering conditions, Fig. 9b. The results reveal that if the carbon \\nconcentration in the bulk martensite (α’) exceeds 1.21 wt.% (5.45 at.%), austenite (γ) will form at \\n400°C, provided that the nucleation barrier is overcome . This result confirms our suggestion made \\nabove, namely, that no bulk austenit ization can occur at this temperature since the average carbon \\ncontent of the matrix is too low. Instead we a ssume that only certain lattice defects (interfaces) that \\nexperience very high elastic distortions and carbon segregation can provide the nucleation \\nconditions and a sufficiently high carbon concentration for local austenite formation, Fig. 7 e,f,g, \\nFig. 8. This leads to an increase in the overall austenite fraction. Fig. 6a shows that a 2 minutes heat \\ntreatment at 400°C leads to an increase in the austenite content from 18.9 vol.% to 29.7 vol.%.  \\nThermo-Calc predictions show that in the current alloy carbon provides the required driving force \\nfor this low-temperature austenite reversion. Substitutional atoms, particularly Cr, do not participate \\nin reversion in the current alloy owing to their limited mobility at 400°C , i.e. the driving force for '),\n Document(metadata={'source': 'https://arxiv.org/pdf/1202.4135v1.pdf', 'page': 10}, page_content='11 \\n \\ntransformation is here provided exclusively by the high carbon enrichment rather than by \\nsubstitutional depletion of the austenite, Fig. 8a [39].  \\nBased on these thermodynamic boundary conditions t he APT results  allow us now to monitor and \\nevaluate the kinetics of carbon at different stages of tempering in more detail (Fig. 8). Fig 8a shows \\nthe as quenched state: During solution annealing where the material is completely austenitic the \\nelements distribute homogeneously within that phase.  \\nAt the onset of water quenching, the majority of  the austenite starts to transform into martensite \\nwithout at first changing its chemical composition. However, as the solubility of carbon in the \\nquenched-in martensite is very small, carbon starts to leave the martensite during and after the γ→α’ \\ntransformation and enriches at the γ-α’ interfaces, Fig. 8a [45.-50]. This process can happen extremely \\nfast: Speer et al. [40,41] showed that carbon partitioning between martensite and austenite in a 0.19C-\\n1.59Mn-1.63Si (wt.%) steel required at 400°C less than 0.1s owing to the relatively high diffusion \\nrate of carbon in martensite. In contrast, the further distribution of the newly acquired carbon within \\nthe austenite is nearly three orders of magnitude more slowly [40-50]. This means that in this case the \\nescape rate of carbon from the newly forming lath martensite is much higher than the carbon \\nequilibration within the austenite [48-50]. \\nIn the present quenching process, carbon segregation takes place even faster  than in the study \\nquoted above[40,41]. In the current case the c arbon has already started to partition and segregate at \\nthe martensite-austenite interfaces during the early stages of water quenching immediately after the \\nfirst martensite has formed[45-50]. Th e fast kinetics is due to the high mobility of carbon  in \\nmartensite, table 3. Such pronounced c arbon segregation at the martensite -austenite interfaces is \\nclearly observed in the as quenched state  (Fig. 8a). In the interface area the carbon content reaches \\nup to 4-6 at.%  within a narrow layer of about 5 nm . This value is clearly above the nominal \\ncomposition that purely retained austenite would have [45-50]. Owing to the high escape rate of \\ncarbon from the martensite this zone is interpreted as a portion of initially retained austenite which \\nhas been enriched in carbon during quenching [45-50]. \\nAs explained above this high level of carbon segregation in the present case is a consequence of \\ntwo effects, namely, first, the rapid carbon escape from the ne wly formed martensite and second, \\nthe low mobility of carbon within the retained austenite. According to table 3 at 400°C in 1 minute \\ncarbon can diffuse 27.000 nm in the martensite and only 130 nm in the austenite [40]. Other sources \\nsuggest a 10-20% smaller mean free path of carbon in the martensite [43,44]. '),\n Document(metadata={'source': 'https://arxiv.org/pdf/1202.4135v1.pdf', 'page': 11}, page_content='12 \\n \\nHence, the carbon segregation observed after quenching (Fig. 8a) is due to a partitioning step and a \\nkinetic freezing step (limited mobility of carbon once it arrives in the austenite) . From comparing \\nthis experimentally observed frozen-in value of 4-6 at.%  carbon at the martensite -austenite \\ninterface (Fig. 8a) with the value that is predicted by Thermo-Calc as a driving force required for \\naustenite reversion at 400°C (5.45 at.%) we conclude that a ustenite reversion will occur under the \\ncurrent conditions at this interface upon heat treatment.  \\nAfter 1 minute tempering  at 400°C , a carbon enriched austenite layer is observed between two \\nmartensite regions (Fig. 8b). In principle this thin austenite layer could originate either from a very \\nthin layer of retained austenite that was enriched with carbon due to partition ing from the abutting \\nlath martensite or from austenite reversion without any preceding retained austenite.  If the carbon -\\nrich zone would be retained austenite the carbon profile in the austenite region would assume a ‘V’ \\ntype distribution. This type of concentration profile would be characterized by a high content at the \\ntwo martensite-austenite interfaces and a low content in the center of the austenite layer (hence ‘V’). \\nAlso, retained austenite would have the nominal composition, i.e. in the center of the retained \\naustenite zone the carbon content should be 2 at.%  or slightly above as in Fig. 8a .  This type of \\ncarbon distribution is not observed though. Instead, Fig. 8b shows that the carbon profile assumes a \\n‘/\\\\’ shape within the austenite layer with a maximum carbon concentration above 8 at.%. It is hence \\nplausible to assume that this profile is due to carbon segregation on a former martensite-martensite \\ngrain boundary  according to the Gibbs adsorption isotherm . This means that during water \\nquenching the carbon that is segregated at the martensite grain boundary has come from both sides. \\nTherefore, the maximum carbon concentration  revealed in Fig. 8b , which highly exceeds the \\nequilibrium concentration that it would have had in the austenite, is in the center of the enrichment \\nlayer rather than at its rims . This means that during tempering austenite reversion starts in the \\ncenter of thi s carbon enriched area, i.e. at the former martensite -martensite grain boundary. The \\nresulting average carbon concentration in this reverted austenite grain is very high, namely, 6.86 at.% \\n(with a maximum above 8 at.%) . The fact that the pronounced ‘/ \\\\’ shape of the carbon is preserved \\n(frozen in) inside the austenite is due to the low mobility of carbon in austenite, table 3 . These \\nobservations suggest that the carbon-rich zone in Fig. 8b is a newly formed austenite layer. If the \\ncarbon enriched area had been located between a martensite and an austenite grain,  such as at the \\npositions observed in Figs. 8a and c , the carbon atoms would have arrived only from one side, \\nnamely, from the martensite side  (Fig. 9 ). The thickness of the newly formed reverted austenite '),\n Document(metadata={'source': 'https://arxiv.org/pdf/1202.4135v1.pdf', 'page': 12}, page_content='13 \\n \\nlayer in Fig. 8b is about 15 nm. With increasing tempering time, more reverted austenite is formed \\n(Fig. 4,9).  \\nIn summary, t he behavior of carbon in the current alloy can be described as follows: during \\nquenching, carbon segregate s to martensite-martensite grain boundaries (equilibrium segregation) \\nor to martensite-retained austenite interfaces (partitioning plus kinetic freezing) . In the first case \\n(equilibrium segregation between two lath martensite zones) d uring tempering, these carbon  \\nenriched areas in the martensite revert to austenite  when the driving force is high enough owing to \\nthe favorable nucleation barrier at the interfaces . In the second case (partitioning at retained \\naustenite) the carbon enrichment leads to austenite growth  according to local equilibrium. If the so \\nreverted austenite is located at or in the vicinity of the austenite -martensite phase boundary, carbon \\ncan diffuse from the reverted austenite further into the retained austenite  provided that the \\ntempering time is long enough. This carbon enrich ment stabilizes the retained austenite. Also, this \\neffect makes it generally difficult to distinguish reverted austenite from retained austenite  (Fig. 9). \\nAfter 1 minute tempering, the reverted austenite has a high carbon content of 6.86 at.% (enrichment \\nfactor ε=3.61). With increasing tempering time, the diffusion of carbon from reverted austenite into \\nretained austenite leads to an increase in the carbon concentration of the retained austenite. After 30 \\nminutes tempering, the carbon concentration in the retained austenite  increases to an average value \\nof 2.42 at.% (Fig. 8c). If the diffusion distance to the nearest phase boundary is too far, e.g. inside \\nthe bulk martensite, the high concentration of carbon leads to the form ation of carbides  inside the \\nmartensite. \\nAfter 30 minutes tempering time, the carbon content in the carbides is 25.1  at.% as measured by \\nAPT. This value agrees with the stoichiometric content of carbon in M 3C (25  at.%). Due to the \\ncarbon partitioning to au stenite, austenite reversion, and the competing formation of carbides, the \\ncarbon content of the martensite continuously decreases during tempering. The amount of carbon in \\neach phase before and after tempering is listed in Table 2 for the different stages . The other \\nelements, for example chromium, have nearly the same content in both , austenite and martensite. \\nThis means that during 400°C tempering, medium range diffusion of carbon can be observed, but \\nthe substitutional elements only experience short dist ance diffusion. For all tempering conditions \\nanalyzed above we observe that not the nominal (global) but the local chemical potential of carbon \\ndirectly at the martensite -austenite and martensite-martensite interfaces and the smaller nucleation '),\n Document(metadata={'source': 'https://arxiv.org/pdf/1202.4135v1.pdf', 'page': 13}, page_content='14 \\n \\nenergy at the interfaces determine the kinetics of austenite reversion. Similar trends were observed \\nin maraging steels during aging [28,51,52]. \\nIn a though t experiment, assuming infinite mobility of the carbon when entering from martensite \\ninto austenite, the reversion would proceed more slowly  owing to the smaller chemical driving \\nforce at the interface when carbon is distributed more homogeneously inside the austenite . In the \\ncurrent situations, however, carbon becomes trapped and highly enriched at the martensite-austenite \\ninterface owing to the partitioning and its low mobility within the austenite. This provides a much \\nhigher local driving force for austenite reversi on. We refer to this mechanism as low temperature \\npartitioning and kinetic freezing effect because the carbon is fast inside the martensite when leaving \\nit but slow (and, hence, frozen) when entering the austenite. A similar effect was recently observed \\nin Fe-Mn steels [28].  \\n \\n \\n4.2 Transformation induced plasticity (TRIP) effect  \\nDuring tensile testing, the volume fraction of austenite decreases not only in the quenched samples \\nbut also in the tempered samples (Fig. 6). When the brittle as-quenched sample f ailed at an early \\nstage of loading (Fig. 2a, green curve), the amount of retained austenite had decreased from 18.9 to \\n10.8 vol.%. At failure most of the quenched-in martensite was still in the elastic regime. This means \\nthat stress-induced austenite-to-martensite transformation prevailed since the material took nearly \\nno plastic strain until fracture. After 400°C austenite-reversion tempering, the ductility of the \\nmaterial improve s drastically (F ig. 2 ). The EBSD results reveal that nearly all of the aust enite \\ntransformed into martensite during tensile testing especially in the near-fracture zones (Fig. 6a,b). \\nThis observation suggests that strain-induced austenite -to-martensite transformation (rather than \\nstress-induced transformation) prevails in the tem pered samples containing reverted nano -sized \\naustenite.  \\nThe difference in the displacive deformation behavior between the as -quenched and tempered \\nsamples is due to the fact that directly after water quenching, the retained austenite is unstable due \\nto its relatively low carbon content . In the as -quenched state (i.e. without tempering) the carbon \\ncontent of the retained austenite is equal to the nominal composition after solution treatment . A \\nrelatively weak load is, hence, required  to transform this retained and rather unstable austenite into \\nmartensite at the onset of the tensile test. Transforming a large amount of austenite at the same time, \\nnamely, at the beginning of deformation , promotes crack formation and premature failure. In '),\n Document(metadata={'source': 'https://arxiv.org/pdf/1202.4135v1.pdf', 'page': 14}, page_content='15 \\n \\ncontrast to this as -quenched and rather unstable austenite, subsequent tempering enriches the \\nretained austenite with carbon due to partitioning. The higher carbon content stabilizes the retained \\nand the reverted austenite so that austenite portions with different carbon content undergo the TRIP \\neffect at different stage s of deformation. These differences in carbon content of different austenite \\nportions in the same sample is due to the fact that only the local chemical potential of the carbon at \\nthe hetero -interfaces determi nes the partitioning and reversing rates and, hence, also the exact \\ncarbon content of the abutting austenite. This means that retained and reverted austenite zones that \\nare carbon -enriched through partitioning have a kinetically determined composition whic h is \\nsubject to local variations in the chemical potential (of carbon). This context explains the more \\ncontinuous displacive transformation sequence in the tempered material and hence the observed \\nductility improvement.  \\nAnother aspect of the TRIP effect i n this material is that austenite reversion, obtained from \\ntempering, does not only stabilize the austenite via a higher carbon content but also increases its \\noverall volume fraction at least after sufficient tempering time. Fig. 6a reveals that the austen ite \\nfraction increases from 18.9 vol.% after quenching to 29.7 vol.% after 2 minutes at 400°C. \\nInterestingly, after 1 minute at 400°C the austenite fraction did not change much. This means that \\nfor the short-annealing case (1 minute) the austenite stability and its more sequential transformation \\nas outlined above are more important for the ductilization than its mere volume fraction. \\n \\n \\n4.3 Precipitation development  \\nThe TEM and APT observations confirm that the carbides formed during tempering have are of \\nM3C type (instead of M 23C6). The formation of M 3C is associated with a smaller loss of chromium \\nfrom the matrix (into carbides) compared to M 23C6-type carbides which can have a high chromium \\ncontent. Some authors found a sequence of carbide formatio n in Fe-Cr-C systems during tempering \\naccording to MC → M3C → M7C3 + M23C6 + M6C[53]. In our study M3C carbides prevailed up to 30 \\nminutes annealing time. Samples taken from the as -quenched state show the highest hardness due \\nto carbon in solid solution. The hardness decrease observed during tempering is related to carbide \\nformation because carbon has a higher strengthening effect in solid solution than in t he form of \\ncarbides. However, the small carbides (Fig. 8c) also contribute to the strength as observed with \\nTEM (see Fig. 7b). The strain hardening rate decreases with increasing tempering time. This might \\nbe due to the coarsening of the carbides and due to the increas e in the average carbide spacing '),\n Document(metadata={'source': 'https://arxiv.org/pdf/1202.4135v1.pdf', 'page': 15}, page_content='16 \\n \\n(from ~40 nm after 1 minute to ~80 nm after 30 minutes tempering  at 400°C).  Further we observe \\nthat the yield stress increases during tempering. This might be due to the change in the internal \\nstress state of the martensite  matrix. After  water quench ing, high elastic stress es prevail  in the \\nmartensite. These lead to early microplastic yielding of the material prior to percolative bulk plastic \\nyielding. During tempering, the internal stress state of the martensite is relaxed due to the escape of \\ncarbon. This leads to a delay in the yielding of the tempered samples. \\n \\n \\n4.4 Relationship between nanostructure and stress-strain behavior \\nIn the preceding sections we presented experimental evidence of grain boundary seg regation, \\nhetero-interface partitioning, kinetic freezing, carbide precipitation, retained austenite  formation \\nand stabilization, austenite reversion, and the TRIP effect. \\nIn this part we discuss the joint influence of these phenomena on the  excellent strength-ductility \\nprofile of this steel (Fig. 2a,d).  \\nWe differentiate between mechanisms that provide higher strength and those promoting ductility : \\nThe most relevant phase responsible for the high strength of the steel after heat treatment is  the \\nrelaxed martensite. The quenched -in martensite with an extrapolated tensile strength of more than \\n2300 MPa (approximated from hardness data) is very brittle. Already a very modest heat treatment \\nof 1 minute at 400°C though (Fig. 2a) provides sufficient carbon mobility. This leads to carbon re -\\ndistribution (carbide formation, grain boundary segregation, dislocation decoration, martensite-\\naustenite interface segregation, austenite solution) and thus to a reduction in the internal stresses of \\nthe martensi te. Th e reduced carbon content renders the martensite into a phase that can be \\nplastically deformed without immediate fracture.  The second contributi on to the increase in \\nstrength are the nanoscaled carbides  which provide Orowan strengthening , Fig. 7 (TEM), Fig. 8c \\n(APT). Their average spacing increases from about 50 nm (1 minute at 400°C) to about 80nm (30 \\nminute at 400°C) , Fig. 8b.  These two effects, viz. , conventional martensite strength (via high \\ndislocation density, high internal interface density , internal stresses, solid solution strengthening)  \\nand Orowan strengthening explain the high strength of the material , but they do not explain its high \\nductility. \\nIn this context the TRIP effect, i.e. the displacive transformation of retained and reverted austenite, \\nbecomes relevant: Fig. 6a reveals a drop in the austenite content from 29.7 vol.% to about 2.7 vol.% \\nduring deformation for the sample heat treated at 400°C for 2 minutes.  Fig. 10 shows the true '),\n Document(metadata={'source': 'https://arxiv.org/pdf/1202.4135v1.pdf', 'page': 16}, page_content='17 \\n \\nstress-true strain curves and their corresponding derivatives (strain hardening) after 400°C heat \\ntreatment at different times. The data reveal that the tempering, which increases the austenite \\ncontent via reversion, leads indeed to higher strain hardening reserves at the later stages of \\ndeformation due t o the TRIP effect, Fig. 6b. Since longer heat treatments lead to higher volume \\nfractions of reverted austenite the TRIP -related strain hardening assumes a higher level for these \\nsamples (Fig. 10). \\nAnother important effect that might promote ductility in this context is the wide distribution of the \\naustenite dispersion and stability (carbon content) which are both characteristic for this material. As \\nrevealed in Fig. 8 we can differentiate 3 types of austenite, Fig. 9a: The first type is the as-quenched \\nretained austenite with the nominal carbon content and relatively low stability. The second one is \\nretained austenite which assumes an increased carbon content due to partitioning during quenching \\nand particularly during heat treatment and has thus higher  stability against displacive \\ntransformation. The third type of austenite is the reverted one. These three types of austenite have \\ndifferent carbon concentration, volume fraction , and size. Both, carbon content and size affect \\naustenite stability. T his mea ns that the displacive transformation during tensile testing and the \\nassociated accommodation plasticity occur more gradually upon loading compared to a TRIP effect \\nthat affects a more homogeneous austenite. We refer to this mechanism as a heterogeneous TR IP \\neffect. \\nAnother important aspect is the composite -like architecture of the reverted austenite, which is \\nlocated at the martensite -martensite and at the martensite -austenite interfaces in the form of \\nnanoscaled seams (see Figs. 8 and 11). Such a topology might act as a soft barrier against incoming \\ncracks or stress-strain localizations from the martensite. We hence speculate that the austenite seam \\nis a compliance or respectively repair layer that can immobilize defects through its high formability \\nand pr event cracks from percolating from one martensite grain into another (Fig. 11).  In this \\ncontext it is important to note that conventional martensite-martensite interfaces often have a small-\\nangle grain boundary between them which facilitates crack penetrat ion from one lath to another. \\nHere, a compliant austenite seam between the laths might hence be very efficient in stopping cracks.  \\nWe emphasize this point since the increase in macroscopic ductility can generally be promoted by \\nboth, an increase in strain hardening at the later stages of deformation and by mechanisms that \\nprevent premature damage initiation. \\n  '),\n Document(metadata={'source': 'https://arxiv.org/pdf/1202.4135v1.pdf', 'page': 17}, page_content='18 \\n \\n \\n5. Conclusions \\nWe studied carbon partitioning, retained austenite, austenite stabilization, nanoscale austenite \\nreversion, carbide formation, and kinetic freezing of carbon during heat treatment of a martensitic \\nstainless steel Fe-13.6Cr-0.44C (wt.%).  The main results are: \\n(1) Austenite formation in carbon enriched martensite-austenite interface areas is confirmed by \\nXRD, EBSD, TEM, and APT. Both, the formation of retained austenite and austenite reversion \\nduring low -temperature partitioning is discussed. The enrichment of carbon  at martensite-\\nmartensite grain boundaries and martensite-retained austenite phase boundaries  provides the \\ndriving force for austenite reversion. The reverted austenite zones have nanoscopic size (about \\n15-20 nm). The driving forces for austenite reversion are determined by local and not by global \\nchemical equilibrium. \\n(2) Martensite-to-austenite reversion proceeds fast. This applies to both, the formation of rever sed \\naustenite at retained austenite layers and austenite reversion among martensite laths. The \\nvolume fraction of austenite has nearly doubled after 2 minutes at 400°C. \\n(3) The carbides formed during tempering have M 3C structure. With increasing tempering time the \\ndispersion of the carbides decreases due to the Gibbs-Thomson effect. \\n(4) During tempering between 300°C and 500°C c arbon redistributes in three different ways : \\nDuring quenching, in the vicinity of martensite-austenite interfaces, carbon segregates from the \\nsupersaturated martensite to both, the hetero -interfaces and to homophase grain boundaries. \\nDuring tempering, carbon continuously partition s to martensite-austenite interfaces, driving the \\ncarbon enriched areas towards austenite reversion (irrespective of whether the nucleation zones \\nwere initially retained or reversed austenite) . C arbon inside martensite , far away from any \\ninterfaces, tends to form M 3C carbides. This means that carbon segregates to martensite grain \\nboundaries, to martensite-austenite interfaces, and forms carbides.  \\n(5) We differentiate between 3 different types of austenite, namely, first, as -quenched retained \\naustenite with nominal carbon content a nd low stability; second, retained austenite with \\nincreased carbon content and higher stability due to partitioning according to the local chemical \\npotential of carbon; and third, reverted austenite. \\n(6) The nanoscale structural changes lead to drastic improve ments in the mechanical properties. A \\nsample after 1 minute tempering at 400°C has 2 GPa tensile strength with 14% total elongation. \\nThe strength increase is attributed to the high carbon content of the martensite and the \\ninteraction between dislocations a nd nano-sized carbides. The TRIP effect of  the austenite \\nduring deformation, including the reverted nano -scale austenite, contributes to a strain \\nhardening capacity and, hence, promotes the ductility. Also, the topology of the reverted \\naustenite is importa nt: We suggest that the nanoscaled seam topology of the austenite \\nsurrounding the martensite acts as a soft barrier which has compliance and repair function. This \\nmight immobilize defects and prevent cracks from growth and inter-grain percolation. \\n(7) We attri bute the fast nanoscale austenite reversion to an effect that we refer to as kinetic \\nfreezing of carbon. This means that the carbon is fast inside the martensite when leaving it but \\nslow (and, hence, frozen) when entering the austenite. This means that car bon becomes trapped \\nand highly enriched at the martensite -austenite interfaces owing to its low mobility within the \\naustenite during low-temperature partitioning. This provides a much higher local driving force \\nfor austenite reversion. This means that the formation of nanoscaled reverted austenite depends \\nmainly on the local but not on the global chemical potential of carbon at internal interfaces. \\n '),\n Document(metadata={'source': 'https://arxiv.org/pdf/1202.4135v1.pdf', 'page': 18}, page_content='19 \\n \\nAcknowledgements \\nThe authors are grateful for discussions on carbon partitioning and martensite tempering with \\nProfessor George D.W. Smith from Oxford University. \\n \\nTables \\nTable 1: Chemical composition of material used for the investigation (1.4034, X44Cr13, AISI 420). \\n \\n C Cr Mn Ni Si N Fe \\nwt.% 0.437 13.6 0.53 0.16 0.284 0.0205 Bal. \\nat.% 1.97 14.19 0.52 0.15 0.55 0.079 Bal. \\n \\n \\n \\n \\nTable 2. Change of the carbon content observed in each phase via atom probe tomography during \\nannealing, quenching, and austenite reversion. The carbon partitioning to the different phases is \\nquantified in terms of the enrichment factor ε=(at.% C tempered)/(at.% C as quenched) which \\nallows us to compare the chemical composition in the phases before and after tempering.                       \\n \\nState of samples Retained austenite \\n(at.%) \\nmartensite \\n(at.%) \\ninterface \\n(at.%) \\nreverted \\naustenite (at.%) \\nnominal composition \\n(annealing at 1150°C) \\n1.97% -- -- -- \\nas quenched 1.90% 0.98% 4.52% -- \\nquenched plus tempering \\n(400°C/1 min) \\n-- 0.82% \\n(ε=0.84) \\n-- 6.86% \\n(ε=3.61) \\nquenched plus tempering \\n(400°C/30 min) \\n2.42% \\n(ε=1.27) \\n0.48% \\n(ε=0.49) \\n-- -- \\n \\n \\n \\nTable 3. Diffusion data for carbon in ferrite and austenite taken from [40]. For the current heat \\ntreatment case of 400°C (673K) the diffusion coefficient in ferrite is Dα= 2×10-12 m2/s and in \\naustenite Dγ= 5×10-17 m2/s. The table gives the mean free path for the different tempering stages. \\nThe diffusion of carbon on the ferrite can be regarded as a lower bound. The corresponding value \\nfor martensite is likely to be higher owing to the high defect density of the martensite.   \\n \\nTime / min Austenite / m Ferrite / m \\n1 1.3×10-7 2.7×10-5 \\n2 1.9×10-7 3.8×10-5 \\n30 7.4×10-7 1.5×10-4 \\n \\n \\n \\n  '),\n Document(metadata={'source': 'https://arxiv.org/pdf/1202.4135v1.pdf', 'page': 19}, page_content='20 \\n \\nReferences \\n \\n  [1] Zou D, Han Y, Zhang W, Fang X. J Iron Steel Res Int 2010;17(8):50. \\n  [2] Rodrigues CAD, Lorenzo PLD, Sokolowski A, Barbosa CA, Rollo JMDA. Mater Sci Eng 2007;A \\n460–461:149. \\n  [3] Karlsen M, Grong O, Soefferud M, Hjelen J, Roervik G, Chiron R. Metall Mater Trans \\n2009;40A:310. \\n  [4] Pieta G, Leite R, Kwietniewski C, Clarke T, Strohaecker T. J. Mater. Eng. Perform \\n2010;19(9):1318. \\n  [5] Kurdjumov GV. Twelfth Hatfield Memorial Lecture. 1959.  \\n  [6] Clarke AJ, Speer JG, Miller MK, Hackenberg RE, Edmonds DV, Matlock DK, Rizzo FC, Clarke \\nKD, Moor ED. Acta Mater 2008;56:16. \\n  [7] Malakondaiah G, Srinivas M, Rao PR. Prog Mater Sci 1997;42:209. \\n  [8] Speer JG, Matlock DK, Cooman BCD, Schroth JG. Acta Mater 2003;51:2611. \\n  [9] Edmonds DV, Hea K, Rizzo FC, Cooman BCD, Matlock DK, Speer JG. Mater Sci Eng \\n2006;A438–440:25. \\n[10] Tomimura K, Takaki S, Tanimoto S, Tokunaga Y. ISIJ Int 1991;31:721. \\n[11] Tomimura K, Takaki S, Tokunaga Y. ISIJ Int 1991;31:1431. \\n[12] Takaki S, Tomimura K, Ueda S. ISIJ Int 1994;34:522. \\n[13] Nakada N, Tsuchiyama T, Takaki S, Hashizume S. ISIJ Int 2007;47:1527. \\n[14] Furuhara T, Kikumoto K, Saito H, Sekine T, Ogawa T, Morito S, Maki T. ISIJ Int 2008;48:1038. \\n[15] Nakada N, Tsuchiyama T, Takaki S, Miyano N. ISIJ Int 2011;51:299. \\n[16] Nayak SS, Anumolu R, Misra RDK, Kim KH, Lee DL. Mater Sci Eng 2008;A498:442. \\n[17] Cerezo A, Godfrey TJ, Smith GDW. Rev Sci Instrum 1988;59:862. \\n[18] Blavette D, Deconihout B, Bostel A, Sarrau JM, Bouet M, Menand A. Rev Sci Instrum \\n1993;64:2911. \\n[19] Miller MK, Cerezo A, Hetherington MG, Smith GDW. Atom probe field ion microscopy. Oxford: \\nOxford University Press; 1996. \\n[20] Thuvander M, Miller MK, Stiller K. Mater Sci Eng 1999;A270:38. \\n[21] Miller MK. Atom probe tomography analysis at the atomic scale. New York: Kluwer \\nAcademic/Plenum; 2000. \\n[22] Kelly TF, Miller MK. Rev Sci Instrum 2007;78:031101. \\n[23] Seidman D. Annu Rev Mater Sci 2007;37:127. \\n[24] Miller MK, Forbes RG. Mater Charact 2009;60:461. \\n[25] Marquis EA, Miller MK, Blavette D, Ringer SP, Sudbrack CK, Smith GDW. MRS Bull \\n2009;34:725. '),\n Document(metadata={'source': 'https://arxiv.org/pdf/1202.4135v1.pdf', 'page': 20}, page_content='21 \\n \\n[26] Pereloma EV, Stohr RA, Miller MK, Ringer SP. Metall Mater Trans 2009;40A:3069. \\n[27] Sauvage X, Lefebvre W, Genevois C, Ohsaki S, Hono K. Scripta Mater 2009;60:1056. \\n[28] Dmitrieva O, Ponge D, Inden G, Millán J, Choi P, Sietsma J, Raabe D, Acta Mater 2011;59:364. \\n[29] Gerezo A, Godfrey TJ, Smith GDW: Rev Sci Instrum 1988; 59:862. \\n[30] Raabe D, Choi PP, Li YJ, Kostka A, Sauvage X, Lecouturier F, Hono K, Kirchheim R, Pippan R, \\nEmbury D: MRS Bulletin 2010; 35: 982. \\n[31] Ohsaki S, Raabe D, Hono K: Acta Mater 2009; 57:5254. \\n[32] Choi P, da Silva M, Klement U, Al-Kassab T, Kirchheim R: Acta Mater 2005;53:4473. \\n[33] Thermo-Calc User’s Guide, Version R. Stockholm: Thermo-Calc software AB and Foundation of \\nComputational Thermodynamics; 1995-2006. \\n[34] Thermodynamic database TCFE5-TCS Steels/Fe-Alloys Database, Version 5, Thermo-Calc \\nSoftware, www. Thermocalc.com. \\n[35] Sato H, Zaefferer S: Acta Mater 2009; 57:1931. \\n[36] Jiménez J.A, Carsí M, Frommeyer G, Knippscher S, Wittig J, Ruano O.A. Intermetallics \\n2005;13:1021. \\n[37] Rühle M. Vol. 9, Metallography and microstructures, in: Transmission electron microscopy, ASM \\nhandbook, Materials Park, OH: ASM International; 1995.  \\n[38] Shtansky D V, Nakai K, Ohmori Y: Acta Mater 2000; 48, 1679. \\n[39] Miyamoto G, Usuki H, Li ZD, Furuhara T: Acta Mater 2010; 58:4492. \\n[40] Speer JG, Edmonds DV, Rizzo FC, Matlock DK. Curr. Opin. Solid State Mater. Sci 2004;8:219. \\n[41] Streicher AM, Speer JG, Matlock DK, De Cooman BC: Proceedings of the International \\nConference on Advanced High Strength Sheet Steels for Automotive Applications 2004;51. \\n[42] Zhong N, Wang XD, Wang L, Rong YH: Mater Sci Eng 2009; A506:111. \\n[43] MCLellan R B, Wasz M L: J. Phys. Chem. Solids 1993; 54: 583. \\n[44] Haasen P, Physikalische Metallkunde, Springer-Verlag 1974: 173 \\n[45] Zhu C, Xiong X Y, Cerezo A, Hardwicke R, Krauss G, Smith G.D.W. Ultramicroscopy: IFES \\n2006, Proc. 50th Intern. Field Emission Symposium/19th IVNC 107, 808-812, 2007. \\n[46] Sarikaya M, Thomas G, Steeds J W, Barnard S J, Smith G D W. Proc. Solid-Solid Phase \\nTransformations Conf., Pittsburgh, PA, August 1981, Published by The Metallurgical Society of \\nthe A.I.M.E., Warrendale, PA, USA \\n[47] Barnard S J, Smith G D W, Sarikaya M, Thomas G. Scripta Metall 1981; 15: 387. \\n[48] Bhadeshia H K D H. Metal Science 1983; 17: 151. \\n[49] Bhadeshia H K D H. Metal Science 1981; 15: 175. \\n[50] Thomas G, Sarikaya M, Smith G D W, Barnard S J. Advances in the Physical Metallurgy and \\nApplications of Steels (London, The Metals Society, 1983) 259-265.   '),\n Document(metadata={'source': 'https://arxiv.org/pdf/1202.4135v1.pdf', 'page': 21}, page_content='22 \\n \\n[51] Höring S, Abou-Ras D, Wanderka N, Leitner H, Clemens H, Banhart J: Steel Res Intern 2009; 80: \\n84. \\n[52] Schnitzer R, Radis R, Nöhrer M, Schober M, Hochfellner R, Zinner S, Povoden-Karadeniz E, \\nKozeschnik E, Leitner H: Mater Chem Phys 2010; 122: 138. \\n[53] Yan F, Shi H, Fan J, Xu Z: Mater Chara 2008;59:883. \\n '),\n Document(metadata={'source': 'https://arxiv.org/pdf/1202.4135v1.pdf', 'page': 22}, page_content='   Figures, page 1 \\n \\nFig. 1 Schematic diagram of the heat treatment route (WQ: water quenching). \\n \\n \\n \\n \\n \\n \\n \\n \\n(a)                                                             \\n \\n \\nWQ \\nT \\ntime \\nWQ \\n1min 2min 10min 30min \\n300°C, 400°C, 500°C \\n1150°C 5min \\nWQ WQ WQ \\nFigure(s)'),\n Document(metadata={'source': 'https://arxiv.org/pdf/1202.4135v1.pdf', 'page': 23}, page_content='   Figures, page 2 \\n0 5 10 15 20 25\\n0\\n250\\n500\\n750\\n1000\\n1250\\n1500\\n1750\\n2000\\nTempered at 500°C\\n30min\\n10min\\n2min1min\\n \\n \\nEngineering stress / MPa\\nEngineering strain / %\\n \\n  (b) \\n '),\n Document(metadata={'source': 'https://arxiv.org/pdf/1202.4135v1.pdf', 'page': 24}, page_content='   Figures, page 3 \\n \\n(c)  \\n                                                                         \\n'),\n Document(metadata={'source': 'https://arxiv.org/pdf/1202.4135v1.pdf', 'page': 25}, page_content='   Figures, page 4 \\n \\n (d) \\n'),\n Document(metadata={'source': 'https://arxiv.org/pdf/1202.4135v1.pdf', 'page': 26}, page_content=\"   Figures, page 5 \\n \\n(e) \\nFig. 2 Mechanical properties of the quenched and partitioned stainless steel Fe-13.6Cr-0.44C (wt.%, \\n1.4034, AISI 420) after different types of partitioning and austenite reversion treatments. The \\noriginal state of a commercial alloy (1.4034, cold band) is shown as reference. The term 'cold band' \\nrefers here to hot rolled, cold rolled, and finally recrystallized material. \\n(a-c) stress strain curve of samples tempered at 400°C, 500°C, 300°C, respectively. Note in (a) that \\nthe as-quenched sample (green) fails already in the elastic regime;  (d) Multiplied quantity UTS \\n×TE as a function of annealing time for the three different temperatures;  (e) UTS-HV relationship.  \\n(UTS: ultimate tensile strength; HV: Vickers hardness; TE: total elongation) \\n \\n \\n \\n \\n \\n \\n\"),\n Document(metadata={'source': 'https://arxiv.org/pdf/1202.4135v1.pdf', 'page': 27}, page_content='   Figures, page 6 \\n0 200 400 600 800 1000 1200\\n-50\\n0\\n50\\n100\\n150\\n \\nChange in length / \\uf06dm\\nTemperature / °C\\n360°C\\n \\n-30°C/s\\n10°C/s\\n855°C\\n Austenizing\\n950°C / 5 min\\n       \\n(a)                                                                                \\n0 200 400 600 800 1000 1200\\n-50\\n0\\n50\\n100\\n150\\n10°C/s\\n-30°C/s\\n118°C\\n876°C\\n838°C\\n \\n \\nChange in length / \\uf06dm\\nTemperature / °C\\n  Austenizing\\n1150°C / 5min\\n \\n (b)     '),\n Document(metadata={'source': 'https://arxiv.org/pdf/1202.4135v1.pdf', 'page': 28}, page_content='   Figures, page 7 \\n \\n800 900 1000 1100 12000,0\\n0,1\\n0,2\\n0,3\\n0,4\\n0,5\\n \\n \\n wt.% carbon in austeniteAnnealing temperature / °C  \\n               (c) \\nFig. 3 Results of the dilatometer tests of the stainless steel Fe-13.6Cr-0.44C (wt.%, 1.4034). \\n (a) Austenitization at 950°C for 5min    (b) Austenitization at 1150°C for 5min    (c) calculated \\nequilibrium carbon content in austenite at different annealing temperature (Thermo-Calc TCFE5) \\n  '),\n Document(metadata={'source': 'https://arxiv.org/pdf/1202.4135v1.pdf', 'page': 29}, page_content='   Figures, page 8 \\n \\nFig. 4 Austenite volume fraction as a function of tempering time (at 400°C) measured by feritscope \\n(magnetic signal), EBSD, and XRD. \\n \\n \\n \\n \\n \\n \\n'),\n Document(metadata={'source': 'https://arxiv.org/pdf/1202.4135v1.pdf', 'page': 30}, page_content='   Figures, page 9 \\n \\n(a)                                            (b) \\nFig. 5 EBSD inverse pole figure map of the same specimen region showing retained and reverted \\naustenite (IPF||ND, only austenite shown):  (a) shows the material as quenched containing only \\nretained austenite.  (b) shows the material containing both, retained plus reverted austenite after \\nquenching and 5 minutes tempering at 400°C  (EBSD: Electron back scattering diffraction; IPF: \\ninverse pole figure color code; ND: normal direction). \\n \\n \\n'),\n Document(metadata={'source': 'https://arxiv.org/pdf/1202.4135v1.pdf', 'page': 31}, page_content='   Figures, page 1 \\n \\n \\n \\n(a) \\n \\n(b) \\nFigure(s)'),\n Document(metadata={'source': 'https://arxiv.org/pdf/1202.4135v1.pdf', 'page': 32}, page_content='   Figures, page 2 \\nFig. 6 (a) EBSD phase maps of samples tempered at 400°C for 0, 1, and 2 minutes at 400°C, and of the \\nTRIP effect obtained from EBSD phase analysis. The red columns show the austenite content before \\nand the black ones after the tensile tests. (b) Microstructure of samples before and after tensile testing \\nsubjected to different tempering conditions (left: before tensile test; right: after tensile test); BCC: \\nmartensite phase; FCC: austenite phase. \\n \\n \\n \\n \\n \\n \\n(a) \\n \\n'),\n Document(metadata={'source': 'https://arxiv.org/pdf/1202.4135v1.pdf', 'page': 33}, page_content='   Figures, page 3 \\n \\n(b) \\n \\n'),\n Document(metadata={'source': 'https://arxiv.org/pdf/1202.4135v1.pdf', 'page': 34}, page_content='   Figures, page 4 \\n \\n(c) \\n \\n'),\n Document(metadata={'source': 'https://arxiv.org/pdf/1202.4135v1.pdf', 'page': 35}, page_content='   Figures, page 5 \\n \\n(d) \\n \\n'),\n Document(metadata={'source': 'https://arxiv.org/pdf/1202.4135v1.pdf', 'page': 36}, page_content='   Figures, page 6 \\n  \\n(e) \\n \\n'),\n Document(metadata={'source': 'https://arxiv.org/pdf/1202.4135v1.pdf', 'page': 37}, page_content='   Figures, page 7 \\n \\n(f) \\n \\n'),\n Document(metadata={'source': 'https://arxiv.org/pdf/1202.4135v1.pdf', 'page': 38}, page_content='   Figures, page 8 \\n \\n(g) \\n \\n \\nFig. 7 TEM images of as quenched sample (only lath martensite was found, a,b); \\nTEM images of samples tempered at 400°C for 1min: c) Overview image of the very dense array of \\nnanoscaled carbides that is formed during tempering; d) In-grain view of the carbides; e) Overview \\nimage of the formation of a reverted austenite grain that is located at a former martensite-martensite \\ngrain boundary; f) Close-up view of reverted austenite that is surrounded by martensite; g) Electron \\ndiffraction analysis reveals that a Kurdjumov-Sachs growth orientation relationship exists between \\nthe martensite matrix and the reverted austenite. \\n \\n \\n'),\n Document(metadata={'source': 'https://arxiv.org/pdf/1202.4135v1.pdf', 'page': 39}, page_content='   Figures, page 1 \\n \\n \\n \\n \\n \\n \\n \\nFigure(s)'),\n Document(metadata={'source': 'https://arxiv.org/pdf/1202.4135v1.pdf', 'page': 40}, page_content='   Figures, page 2 \\n \\n \\n'),\n Document(metadata={'source': 'https://arxiv.org/pdf/1202.4135v1.pdf', 'page': 41}, page_content='   Figures, page 3 \\n \\n(a) \\n \\n \\n'),\n Document(metadata={'source': 'https://arxiv.org/pdf/1202.4135v1.pdf', 'page': 42}, page_content='   Figures, page 4 \\n \\n'),\n Document(metadata={'source': 'https://arxiv.org/pdf/1202.4135v1.pdf', 'page': 43}, page_content='   Figures, page 5 \\n \\n \\n(b) \\n \\n \\n'),\n Document(metadata={'source': 'https://arxiv.org/pdf/1202.4135v1.pdf', 'page': 44}, page_content='   Figures, page 6 \\n \\n \\n \\n \\n'),\n Document(metadata={'source': 'https://arxiv.org/pdf/1202.4135v1.pdf', 'page': 45}, page_content='   Figures, page 7 \\n \\n(c) \\n \\nFig. 8   (a) 3-D reconstructions (frame scale in nm) of sample after water quenching;  The data \\nclearly show that carbon redistribution already occurs during quenching. Cr redistribution does not \\noccur. (b) tempered at 400°C for 1 minute;  (c) tempered at 400°C for 30 minutes. Carbon atoms \\nare displayed pink. The different phases are marked in the pictures. Carbon iso-concentration \\nsurface (2 at.%, corresponding to 0.44 wt.%, green) and concentration profiles across the phase \\nboundaries along the yellow cylinder) are also shown. \\n \\n \\n \\n \\nFig. 9a Schematic illustration of austenite reversion. M: martensite; CRI: carbon-rich interface; RA: \\nretained austenite as obtained after quenching with equilibrium austenite carbon content;   rA: \\nreverted austenite formed during 300°C-500°C tempering at interfaces owing to the higher local \\ncarbon conent;   After sufficient long diffusion time the carbon content in both types of austenite \\nbecomes similar. \\n'),\n Document(metadata={'source': 'https://arxiv.org/pdf/1202.4135v1.pdf', 'page': 46}, page_content='   Figures, page 8 \\n \\n \\nFig. 9b Calculated driving force for austenite reversion at 400°C (Thermo-Calc TCFE5). \\n \\n \\n \\n \\n \\n \\n \\n'),\n Document(metadata={'source': 'https://arxiv.org/pdf/1202.4135v1.pdf', 'page': 47}, page_content='   Figures, page 9 \\n \\n \\nFig. 10 True stress-true strain curves and corresponding strain hardening curves for the steel after \\n400°C heat treatment at different times. The data reveal that the tempering, associated with the \\nincrease in the austenite content via austenite reversion, yields higher strain hardening reserves at \\nthe later stages of deformation due to the TRIP effect. \\n \\n \\n \\n \\n'),\n Document(metadata={'source': 'https://arxiv.org/pdf/1202.4135v1.pdf', 'page': 48}, page_content='   Figures, page 10 \\n \\n \\nFig. 11  High resolution EBSD map (20 nm step size) of the sample tempered at 400°C for 30 \\nminutes. The map shows that on some martensite grain boundaries a very thin reverted austenite \\nlayer exists. This thin austenite seam can act as a compliance or respectively repair layer against \\ndamage percolation entering from the martensite grain. Austenite: red; martensite: green. \\n \\n')]"
     },
     "execution_count": 173,
     "metadata": {},
     "output_type": "execute_result"
    }
   ],
   "source": [
    "pages"
   ],
   "metadata": {
    "collapsed": false,
    "ExecuteTime": {
     "end_time": "2024-11-11T23:27:16.186867800Z",
     "start_time": "2024-11-11T23:27:16.170661300Z"
    }
   }
  },
  {
   "cell_type": "code",
   "execution_count": 176,
   "outputs": [
    {
     "name": "stdout",
     "output_type": "stream",
     "text": [
      "{'source': 'https://arxiv.org/pdf/1202.4135v1.pdf', 'page': 1}\n",
      "\n",
      "2 \n",
      " \n",
      "  \n",
      "1. Introduction \n",
      "A high demand exists for lean, ductile, and high strength Fe-Cr stainless steels in the fields of \n",
      "energy conversion, mobility, and industrial infrastructure . As c onventional martensitic stainless \n",
      "steels (MSS) typically exhibit brittle behavior, supermartensitic Fe-Cr stainless steels (SMSS) with \n",
      "enhanced ductility  have been designed in the past years by reducing carbon (<0.03  wt.%) and \n",
      "adding nickel (4%-6.5 wt.%) and molybdenum (2.5  wt.%) [1-4]. The heat-treated microstructures of \n",
      "these materials are characterized by tempered martensite and retained austenite[1-4].  \n",
      "In this work  we present an alternative approach of designing MSS steels with both, high strength \n",
      "and ductility. Our method is based on nanoscale austenite reversion and martensite relaxation  via a \n",
      "modest heat treatment at 300-500°C for several minutes . We make the surprising observation that \n",
      "this method leads to very high strength (up to 2 GPa) of a Fe -13.6Cr-0.44C (wt.%) steel without \n",
      "loss in ductility (X44Cr13, 1.4034, AISI 420). \n",
      "Quenching followed by tempering is known to improve the strength and toughness of martensitic \n",
      "steels[5-7]. Specifically, quench and partitioning (Q&P) treatments are efficient for producing steels \n",
      "with retained austenite  and improved ductility [8]. The heat treatment sequence for Q&P steel \n",
      "involves quenching to a temperature between the martensite -start (Ms) and martensite -finish (Mf) \n",
      "temperatures, followed by a partitioning treatment either at, or above, the initial quench temperature. \n",
      "Partitioning is typically designed in a way to enrich and stabilize the retained austenite with carbon \n",
      "from the supersaturated  martensite [9]. In conventional Q&P processes, the quench temperature i s \n",
      "hence chosen in a way that some retained austenite prevails and subsequent tempering leads to \n",
      "carbon partitioning between martensite and austenite. Typically, no new austenite is formed during \n",
      "partitioning.  \n",
      "In our study we modify this approach with the aim to increase the amount of austenite during low-\n",
      "temperature partitioning. We start with austenitization and water quenching to room temperature. \n",
      "This provides a martensitic-austenitic starting microstructure. During a subsequent heat treatment in \n",
      "the range 300°C -500°C, austenite reversion [10-15] takes place on the basis of partial partitioning \n",
      "according to local equilibrium, segregation, and kinetic freezing of carbon inside the newly formed \n",
      "austenite.  \n",
      "It is important to po int out that the phenomena occurring during austenite reversion are in the \n",
      "present case different from conventional Q&P approaches: In Q&P processing, the carbon diffuses \n"
     ]
    }
   ],
   "source": [
    "print(f\"{pages[1].metadata}\\n\")\n",
    "print(pages[1].page_content)"
   ],
   "metadata": {
    "collapsed": false,
    "ExecuteTime": {
     "end_time": "2024-11-11T23:28:52.500636900Z",
     "start_time": "2024-11-11T23:28:52.484166200Z"
    }
   }
  },
  {
   "cell_type": "code",
   "execution_count": 180,
   "outputs": [],
   "source": [],
   "metadata": {
    "collapsed": false,
    "ExecuteTime": {
     "end_time": "2024-11-11T23:43:50.126294600Z",
     "start_time": "2024-11-11T23:43:50.121086500Z"
    }
   }
  },
  {
   "cell_type": "code",
   "execution_count": 182,
   "outputs": [
    {
     "name": "stdout",
     "output_type": "stream",
     "text": [
      "Key loading successful.\n"
     ]
    }
   ],
   "source": [],
   "metadata": {
    "collapsed": false,
    "ExecuteTime": {
     "end_time": "2024-11-11T23:44:28.628800700Z",
     "start_time": "2024-11-11T23:44:28.624289700Z"
    }
   }
  },
  {
   "cell_type": "code",
   "execution_count": 183,
   "outputs": [],
   "source": [
    "embedding_model  = HuggingFaceEmbeddings(model_name = \"sentence-transformers/all-MiniLM-L6-v2\")"
   ],
   "metadata": {
    "collapsed": false,
    "ExecuteTime": {
     "end_time": "2024-11-11T23:44:32.074740300Z",
     "start_time": "2024-11-11T23:44:29.512527100Z"
    }
   }
  },
  {
   "cell_type": "code",
   "execution_count": 184,
   "outputs": [],
   "source": [
    "vectorstore = Chroma.from_documents(documents= pages, embedding=embedding_model,)"
   ],
   "metadata": {
    "collapsed": false,
    "ExecuteTime": {
     "end_time": "2024-11-11T23:45:37.127371300Z",
     "start_time": "2024-11-11T23:45:35.970400900Z"
    }
   }
  },
  {
   "cell_type": "code",
   "execution_count": 185,
   "outputs": [
    {
     "data": {
      "text/plain": "[Document(metadata={'page': 16, 'source': 'https://arxiv.org/pdf/1202.4135v1.pdf'}, page_content='17 \\n \\nstress-true strain curves and their corresponding derivatives (strain hardening) after 400°C heat \\ntreatment at different times. The data reveal that the tempering, which increases the austenite \\ncontent via reversion, leads indeed to higher strain hardening reserves at the later stages of \\ndeformation due t o the TRIP effect, Fig. 6b. Since longer heat treatments lead to higher volume \\nfractions of reverted austenite the TRIP -related strain hardening assumes a higher level for these \\nsamples (Fig. 10). \\nAnother important effect that might promote ductility in this context is the wide distribution of the \\naustenite dispersion and stability (carbon content) which are both characteristic for this material. As \\nrevealed in Fig. 8 we can differentiate 3 types of austenite, Fig. 9a: The first type is the as-quenched \\nretained austenite with the nominal carbon content and relatively low stability. The second one is \\nretained austenite which assumes an increased carbon content due to partitioning during quenching \\nand particularly during heat treatment and has thus higher  stability against displacive \\ntransformation. The third type of austenite is the reverted one. These three types of austenite have \\ndifferent carbon concentration, volume fraction , and size. Both, carbon content and size affect \\naustenite stability. T his mea ns that the displacive transformation during tensile testing and the \\nassociated accommodation plasticity occur more gradually upon loading compared to a TRIP effect \\nthat affects a more homogeneous austenite. We refer to this mechanism as a heterogeneous TR IP \\neffect. \\nAnother important aspect is the composite -like architecture of the reverted austenite, which is \\nlocated at the martensite -martensite and at the martensite -austenite interfaces in the form of \\nnanoscaled seams (see Figs. 8 and 11). Such a topology might act as a soft barrier against incoming \\ncracks or stress-strain localizations from the martensite. We hence speculate that the austenite seam \\nis a compliance or respectively repair layer that can immobilize defects through its high formability \\nand pr event cracks from percolating from one martensite grain into another (Fig. 11).  In this \\ncontext it is important to note that conventional martensite-martensite interfaces often have a small-\\nangle grain boundary between them which facilitates crack penetrat ion from one lath to another. \\nHere, a compliant austenite seam between the laths might hence be very efficient in stopping cracks.  \\nWe emphasize this point since the increase in macroscopic ductility can generally be promoted by \\nboth, an increase in strain hardening at the later stages of deformation and by mechanisms that \\nprevent premature damage initiation. \\n  '),\n Document(metadata={'page': 21, 'source': 'https://arxiv.org/pdf/1202.4135v1.pdf'}, page_content='22 \\n \\n[51] Höring S, Abou-Ras D, Wanderka N, Leitner H, Clemens H, Banhart J: Steel Res Intern 2009; 80: \\n84. \\n[52] Schnitzer R, Radis R, Nöhrer M, Schober M, Hochfellner R, Zinner S, Povoden-Karadeniz E, \\nKozeschnik E, Leitner H: Mater Chem Phys 2010; 122: 138. \\n[53] Yan F, Shi H, Fan J, Xu Z: Mater Chara 2008;59:883. \\n '),\n Document(metadata={'page': 20, 'source': 'https://arxiv.org/pdf/1202.4135v1.pdf'}, page_content='21 \\n \\n[26] Pereloma EV, Stohr RA, Miller MK, Ringer SP. Metall Mater Trans 2009;40A:3069. \\n[27] Sauvage X, Lefebvre W, Genevois C, Ohsaki S, Hono K. Scripta Mater 2009;60:1056. \\n[28] Dmitrieva O, Ponge D, Inden G, Millán J, Choi P, Sietsma J, Raabe D, Acta Mater 2011;59:364. \\n[29] Gerezo A, Godfrey TJ, Smith GDW: Rev Sci Instrum 1988; 59:862. \\n[30] Raabe D, Choi PP, Li YJ, Kostka A, Sauvage X, Lecouturier F, Hono K, Kirchheim R, Pippan R, \\nEmbury D: MRS Bulletin 2010; 35: 982. \\n[31] Ohsaki S, Raabe D, Hono K: Acta Mater 2009; 57:5254. \\n[32] Choi P, da Silva M, Klement U, Al-Kassab T, Kirchheim R: Acta Mater 2005;53:4473. \\n[33] Thermo-Calc User’s Guide, Version R. Stockholm: Thermo-Calc software AB and Foundation of \\nComputational Thermodynamics; 1995-2006. \\n[34] Thermodynamic database TCFE5-TCS Steels/Fe-Alloys Database, Version 5, Thermo-Calc \\nSoftware, www. Thermocalc.com. \\n[35] Sato H, Zaefferer S: Acta Mater 2009; 57:1931. \\n[36] Jiménez J.A, Carsí M, Frommeyer G, Knippscher S, Wittig J, Ruano O.A. Intermetallics \\n2005;13:1021. \\n[37] Rühle M. Vol. 9, Metallography and microstructures, in: Transmission electron microscopy, ASM \\nhandbook, Materials Park, OH: ASM International; 1995.  \\n[38] Shtansky D V, Nakai K, Ohmori Y: Acta Mater 2000; 48, 1679. \\n[39] Miyamoto G, Usuki H, Li ZD, Furuhara T: Acta Mater 2010; 58:4492. \\n[40] Speer JG, Edmonds DV, Rizzo FC, Matlock DK. Curr. Opin. Solid State Mater. Sci 2004;8:219. \\n[41] Streicher AM, Speer JG, Matlock DK, De Cooman BC: Proceedings of the International \\nConference on Advanced High Strength Sheet Steels for Automotive Applications 2004;51. \\n[42] Zhong N, Wang XD, Wang L, Rong YH: Mater Sci Eng 2009; A506:111. \\n[43] MCLellan R B, Wasz M L: J. Phys. Chem. Solids 1993; 54: 583. \\n[44] Haasen P, Physikalische Metallkunde, Springer-Verlag 1974: 173 \\n[45] Zhu C, Xiong X Y, Cerezo A, Hardwicke R, Krauss G, Smith G.D.W. Ultramicroscopy: IFES \\n2006, Proc. 50th Intern. Field Emission Symposium/19th IVNC 107, 808-812, 2007. \\n[46] Sarikaya M, Thomas G, Steeds J W, Barnard S J, Smith G D W. Proc. Solid-Solid Phase \\nTransformations Conf., Pittsburgh, PA, August 1981, Published by The Metallurgical Society of \\nthe A.I.M.E., Warrendale, PA, USA \\n[47] Barnard S J, Smith G D W, Sarikaya M, Thomas G. Scripta Metall 1981; 15: 387. \\n[48] Bhadeshia H K D H. Metal Science 1983; 17: 151. \\n[49] Bhadeshia H K D H. Metal Science 1981; 15: 175. \\n[50] Thomas G, Sarikaya M, Smith G D W, Barnard S J. Advances in the Physical Metallurgy and \\nApplications of Steels (London, The Metals Society, 1983) 259-265.   ')]"
     },
     "execution_count": 185,
     "metadata": {},
     "output_type": "execute_result"
    }
   ],
   "source": [
    "vectorstore.similarity_search(\"ductility\", k=3)"
   ],
   "metadata": {
    "collapsed": false,
    "ExecuteTime": {
     "end_time": "2024-11-11T23:46:02.000499600Z",
     "start_time": "2024-11-11T23:46:01.925500300Z"
    }
   }
  },
  {
   "cell_type": "code",
   "execution_count": 189,
   "outputs": [
    {
     "data": {
      "text/plain": "Document(metadata={'source': 'https://arxiv.org/pdf/1202.4135v1.pdf', 'page': 8}, page_content='9 \\n \\nto the variation in the carbon distribution, the chromium content is the same in the martensite, the \\ninterface, and the austenite, Fig. 8a. \\n \\n3.4.2   400°C tempered condition after quenching \\nAfter 1 minute tempering at 400°C, a carbon enriched austenite layer (15-20 nm width) is observed \\nbetween two abutting martensite regions  (Fig. 8b). The thin austenite zone contains in average \\nabout 6.86 at.% carbon  while the martensite matrix contains only about 0.82 at.% carbon. The \\nidentification of the phases in these diagrams follows their characteristic carbon content.  \\nAfter 30 minutes tempering  (Fig. 8c), different carbon enriched areas appear. They correspond to \\nindividual phases. The analyzed volume can be divided into 2 zones. The top region with low \\ncarbon content corresponds to martensite. The bottom zone with higher carbon content corresponds \\nto austenite. Inside the martensitic region there are areas with very high carbon content (see arrow \\nin Fig. 8c). The carbon content is 25.1 at.% in this particle indicating M3C cementite stoichiometry. \\nIn the martensitic matrix surrounding the precipitate the carbon content amounts to only 0.48 at.%. \\nCarbon partitioning to the different phases can be quantified in terms of an enrichment factor ε=(at.% \\nC tempered)/(at.% C as quenched)  to compare the composition s in the phases before and after \\ntempering. The observed values of ε for each state are listed in Table 2.  The carbon content in the \\nmartensite decreases continuously duri ng tempering, which can be ascribed to carbon partitioning \\nfrom the super-saturated martensite to the austenite and to carbide formation [39-50].  \\n \\n4. Discussion \\n4.1 Mechanisms of partitioning and austenite reversion \\nThe microstructure observed by EBSD and TEM allows us to monitor the austenite development at \\nthe mesoscopic scale: during the initial high temperature solution annealing in the austenitic regime \\n(1150°C for 5 minutes), all carbides were dissolved (Fig. 3c). The high content of solute carbon that \\nis present in the austenite after carbide dissolution decreases the Ms and the Mf temperatures of the \\naustenite below room temperature. Hence, 8-20 vol.% retained austenite exists after quenching the \\nsolution annealed material to room temperature, Fig. 4. The differences in retained austenite are due \\nto the individual precision of the different characterization methods. EBSD provides a direct \\nmethod and hence is assumed to give a realistic value within its statistical limits.  ')"
     },
     "execution_count": 189,
     "metadata": {},
     "output_type": "execute_result"
    }
   ],
   "source": [
    "pages[8]"
   ],
   "metadata": {
    "collapsed": false,
    "ExecuteTime": {
     "end_time": "2024-11-11T23:48:17.514334600Z",
     "start_time": "2024-11-11T23:48:17.508308200Z"
    }
   }
  },
  {
   "cell_type": "code",
   "execution_count": 186,
   "outputs": [],
   "source": [
    "retriever = vectorstore.as_retriever(search_type = \"similarity\", search_kwargs = {\"k\":10})"
   ],
   "metadata": {
    "collapsed": false,
    "ExecuteTime": {
     "end_time": "2024-11-11T23:46:33.611064200Z",
     "start_time": "2024-11-11T23:46:33.593683100Z"
    }
   }
  },
  {
   "cell_type": "code",
   "execution_count": 190,
   "outputs": [],
   "source": [
    "retrieved_docs = retriever.invoke(\"What is the role of carbon partitioning in the tempering process, and how does it affect the microstructure of martensite and austenite during tempering at 400°C?\")"
   ],
   "metadata": {
    "collapsed": false,
    "ExecuteTime": {
     "end_time": "2024-11-11T23:50:01.618625200Z",
     "start_time": "2024-11-11T23:50:01.585875400Z"
    }
   }
  },
  {
   "cell_type": "code",
   "execution_count": 257,
   "outputs": [
    {
     "data": {
      "text/plain": "'13 \\n \\nlayer in Fig. 8b is about 15 nm. With increasing tempering time, more reverted austenite is formed \\n(Fig. 4,9).  \\nIn summary, t he behavior of carbon in the current alloy can be described as follows: during \\nquenching, carbon segregate s to martensite-martensite grain boundaries (equilibrium segregation) \\nor to martensite-retained austenite interfaces (partitioning plus kinetic freezing) . In the first case \\n(equilibrium segregation between two lath martensite zones) d uring tempering, these carbon  \\nenriched areas in the martensite revert to austenite  when the driving force is high enough owing to \\nthe favorable nucleation barrier at the interfaces . In the second case (partitioning at retained \\naustenite) the carbon enrichment leads to austenite growth  according to local equilibrium. If the so \\nreverted austenite is located at or in the vicinity of the austenite -martensite phase boundary, carbon \\ncan diffuse from the reverted austenite further into the retained austenite  provided that the \\ntempering time is long enough. This carbon enrich ment stabilizes the retained austenite. Also, this \\neffect makes it generally difficult to distinguish reverted austenite from retained austenite  (Fig. 9). \\nAfter 1 minute tempering, the reverted austenite has a high carbon content of 6.86 at.% (enrichment \\nfactor ε=3.61). With increasing tempering time, the diffusion of carbon from reverted austenite into \\nretained austenite leads to an increase in the carbon concentration of the retained austenite. After 30 \\nminutes tempering, the carbon concentration in the retained austenite  increases to an average value \\nof 2.42 at.% (Fig. 8c). If the diffusion distance to the nearest phase boundary is too far, e.g. inside \\nthe bulk martensite, the high concentration of carbon leads to the form ation of carbides  inside the \\nmartensite. \\nAfter 30 minutes tempering time, the carbon content in the carbides is 25.1  at.% as measured by \\nAPT. This value agrees with the stoichiometric content of carbon in M 3C (25  at.%). Due to the \\ncarbon partitioning to au stenite, austenite reversion, and the competing formation of carbides, the \\ncarbon content of the martensite continuously decreases during tempering. The amount of carbon in \\neach phase before and after tempering is listed in Table 2 for the different stages . The other \\nelements, for example chromium, have nearly the same content in both , austenite and martensite. \\nThis means that during 400°C tempering, medium range diffusion of carbon can be observed, but \\nthe substitutional elements only experience short dist ance diffusion. For all tempering conditions \\nanalyzed above we observe that not the nominal (global) but the local chemical potential of carbon \\ndirectly at the martensite -austenite and martensite-martensite interfaces and the smaller nucleation '"
     },
     "execution_count": 257,
     "metadata": {},
     "output_type": "execute_result"
    }
   ],
   "source": [
    "retrieved_docs[0].page_content"
   ],
   "metadata": {
    "collapsed": false,
    "ExecuteTime": {
     "end_time": "2024-11-12T01:15:43.372695500Z",
     "start_time": "2024-11-12T01:15:43.339261600Z"
    }
   }
  },
  {
   "cell_type": "code",
   "execution_count": 194,
   "outputs": [
    {
     "data": {
      "text/plain": "ChatMistralAI(client=<httpx.Client object at 0x0000018D3118BF50>, async_client=<httpx.AsyncClient object at 0x0000018D3118B5F0>, mistral_api_key=SecretStr('**********'), endpoint='https://api.mistral.ai/v1', model='mistral-large-2402')"
     },
     "execution_count": 194,
     "metadata": {},
     "output_type": "execute_result"
    }
   ],
   "source": [
    "llm"
   ],
   "metadata": {
    "collapsed": false,
    "ExecuteTime": {
     "end_time": "2024-11-11T23:51:15.855798500Z",
     "start_time": "2024-11-11T23:51:15.839800500Z"
    }
   }
  },
  {
   "cell_type": "code",
   "execution_count": 205,
   "outputs": [],
   "source": [],
   "metadata": {
    "collapsed": false,
    "ExecuteTime": {
     "end_time": "2024-11-11T23:55:27.017161500Z",
     "start_time": "2024-11-11T23:55:26.952375100Z"
    }
   }
  },
  {
   "cell_type": "code",
   "execution_count": 206,
   "outputs": [],
   "source": [
    "system_prompt = (\n",
    "    \"You are an assistant for question-answering tasks. \"\n",
    "    \"Use the following pieces of retrieved context to answer \"\n",
    "    \"the question. If you don't know the answer, say that you \"\n",
    "    \"don't know. Use three sentences maximum and keep the \"\n",
    "    \"answer concise.\"\n",
    "    \"\\n\\n\"\n",
    "    \"{context}\"\n",
    ")"
   ],
   "metadata": {
    "collapsed": false,
    "ExecuteTime": {
     "end_time": "2024-11-11T23:55:33.199648900Z",
     "start_time": "2024-11-11T23:55:33.179118300Z"
    }
   }
  },
  {
   "cell_type": "code",
   "execution_count": 207,
   "outputs": [],
   "source": [
    "prompt = ChatPromptTemplate.from_messages([\n",
    "    (\"system\", system_prompt),\n",
    "    (\"human\", \"{input}\")\n",
    "])"
   ],
   "metadata": {
    "collapsed": false,
    "ExecuteTime": {
     "end_time": "2024-11-11T23:55:39.592585700Z",
     "start_time": "2024-11-11T23:55:39.576728900Z"
    }
   }
  },
  {
   "cell_type": "code",
   "execution_count": 208,
   "outputs": [],
   "source": [
    "question_answer_chain = create_stuff_documents_chain(llm, prompt)\n",
    "rag_chain = create_retrieval_chain(retriever, question_answer_chain)"
   ],
   "metadata": {
    "collapsed": false,
    "ExecuteTime": {
     "end_time": "2024-11-11T23:55:55.036437800Z",
     "start_time": "2024-11-11T23:55:55.016806900Z"
    }
   }
  },
  {
   "cell_type": "code",
   "execution_count": 211,
   "outputs": [],
   "source": [
    "response = rag_chain.invoke({\"input\":\"What is the role of carbon partitioning in the tempering process, and how does it affect the microstructure of martensite and austenite during tempering at 400°C?\"})"
   ],
   "metadata": {
    "collapsed": false,
    "ExecuteTime": {
     "end_time": "2024-11-11T23:56:42.370491500Z",
     "start_time": "2024-11-11T23:56:35.504606700Z"
    }
   }
  },
  {
   "cell_type": "code",
   "execution_count": 229,
   "outputs": [
    {
     "data": {
      "text/plain": "dict"
     },
     "execution_count": 229,
     "metadata": {},
     "output_type": "execute_result"
    }
   ],
   "source": [
    "type(response)"
   ],
   "metadata": {
    "collapsed": false,
    "ExecuteTime": {
     "end_time": "2024-11-12T00:43:38.243811500Z",
     "start_time": "2024-11-12T00:43:38.237455100Z"
    }
   }
  },
  {
   "cell_type": "code",
   "execution_count": 308,
   "outputs": [],
   "source": [
    "reader = PaperAssistant(paper = results[0],\n",
    "                   llm= llm,\n",
    "                   )"
   ],
   "metadata": {
    "collapsed": false,
    "ExecuteTime": {
     "end_time": "2024-11-12T01:48:44.074557200Z",
     "start_time": "2024-11-12T01:48:39.025651800Z"
    }
   }
  },
  {
   "cell_type": "code",
   "execution_count": 309,
   "outputs": [],
   "source": [
    "ans = await reader.a_answer(\"What is the role of carbon partitioning in the tempering process, and how does it affect the microstructure of martensite and austenite during tempering at 400°C?\")"
   ],
   "metadata": {
    "collapsed": false,
    "ExecuteTime": {
     "end_time": "2024-11-12T01:48:52.803613900Z",
     "start_time": "2024-11-12T01:48:44.077561300Z"
    }
   }
  },
  {
   "cell_type": "code",
   "execution_count": 310,
   "outputs": [
    {
     "data": {
      "text/plain": "\"During the tempering process, carbon partitioning plays a significant role in the microstructure evolution of martensite and austenite in the Fe-Cr-C steel. Carbon segregates to martensite-martensite grain boundaries or martensite-retained austenite interfaces during quenching. When tempered at 400°C, carbon-enriched areas in the martensite revert to austenite due to a favorable nucleation barrier at the interfaces. This reverted austenite has a high carbon content, which can further diffuse into the retained austenite if it is located near the austenite-martensite phase boundary, leading to its stabilization. However, if the diffusion distance is too far, carbides form inside the martensite due to the high concentration of carbon. The continuous decrease in martensite's carbon content during tempering results from carbon partitioning to austenite, austenite reversion, and carbide formation. Medium-range diffusion of carbon is observed, while substitutional elements experience only short-distance diffusion. The local chemical potential of carbon at interfaces primarily influences the tempering process, rather than the global chemical potential.\""
     },
     "execution_count": 310,
     "metadata": {},
     "output_type": "execute_result"
    }
   ],
   "source": [
    "ans[\"answer\"]"
   ],
   "metadata": {
    "collapsed": false,
    "ExecuteTime": {
     "end_time": "2024-11-12T01:48:52.813927100Z",
     "start_time": "2024-11-12T01:48:52.805624100Z"
    }
   }
  },
  {
   "cell_type": "code",
   "execution_count": null,
   "outputs": [],
   "source": [],
   "metadata": {
    "collapsed": false
   }
  }
 ],
 "metadata": {
  "kernelspec": {
   "display_name": "Python 3",
   "language": "python",
   "name": "python3"
  },
  "language_info": {
   "codemirror_mode": {
    "name": "ipython",
    "version": 2
   },
   "file_extension": ".py",
   "mimetype": "text/x-python",
   "name": "python",
   "nbconvert_exporter": "python",
   "pygments_lexer": "ipython2",
   "version": "2.7.6"
  }
 },
 "nbformat": 4,
 "nbformat_minor": 0
}
